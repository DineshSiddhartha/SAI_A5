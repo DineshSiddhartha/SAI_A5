{
  "nbformat": 4,
  "nbformat_minor": 0,
  "metadata": {
    "colab": {
      "provenance": [],
      "gpuType": "T4",
      "authorship_tag": "ABX9TyOytBP1kk4BIclZD9MJ+XeV",
      "include_colab_link": true
    },
    "kernelspec": {
      "name": "python3",
      "display_name": "Python 3"
    },
    "language_info": {
      "name": "python"
    },
    "accelerator": "GPU",
    "widgets": {
      "application/vnd.jupyter.widget-state+json": {
        "43b761e253444dfc8312b4319206b3fb": {
          "model_module": "@jupyter-widgets/controls",
          "model_name": "HBoxModel",
          "model_module_version": "1.5.0",
          "state": {
            "_dom_classes": [],
            "_model_module": "@jupyter-widgets/controls",
            "_model_module_version": "1.5.0",
            "_model_name": "HBoxModel",
            "_view_count": null,
            "_view_module": "@jupyter-widgets/controls",
            "_view_module_version": "1.5.0",
            "_view_name": "HBoxView",
            "box_style": "",
            "children": [
              "IPY_MODEL_3394c87e23ec4f8cbdce6a44cb2b7718",
              "IPY_MODEL_44b0c24087f74f76b22ca8606abd7c84",
              "IPY_MODEL_905283d0a99646f685b04de0d0e30cac"
            ],
            "layout": "IPY_MODEL_9181cccea395400db9641f43f1a31eb5"
          }
        },
        "3394c87e23ec4f8cbdce6a44cb2b7718": {
          "model_module": "@jupyter-widgets/controls",
          "model_name": "HTMLModel",
          "model_module_version": "1.5.0",
          "state": {
            "_dom_classes": [],
            "_model_module": "@jupyter-widgets/controls",
            "_model_module_version": "1.5.0",
            "_model_name": "HTMLModel",
            "_view_count": null,
            "_view_module": "@jupyter-widgets/controls",
            "_view_module_version": "1.5.0",
            "_view_name": "HTMLView",
            "description": "",
            "description_tooltip": null,
            "layout": "IPY_MODEL_1d64f4f8895b4aeba9331ea610eafac1",
            "placeholder": "​",
            "style": "IPY_MODEL_928ef55c1fae431ea9ed072486b9e780",
            "value": "config.json: 100%"
          }
        },
        "44b0c24087f74f76b22ca8606abd7c84": {
          "model_module": "@jupyter-widgets/controls",
          "model_name": "FloatProgressModel",
          "model_module_version": "1.5.0",
          "state": {
            "_dom_classes": [],
            "_model_module": "@jupyter-widgets/controls",
            "_model_module_version": "1.5.0",
            "_model_name": "FloatProgressModel",
            "_view_count": null,
            "_view_module": "@jupyter-widgets/controls",
            "_view_module_version": "1.5.0",
            "_view_name": "ProgressView",
            "bar_style": "success",
            "description": "",
            "description_tooltip": null,
            "layout": "IPY_MODEL_05b1136b3a1e43ae84356880953aca69",
            "max": 69556,
            "min": 0,
            "orientation": "horizontal",
            "style": "IPY_MODEL_c25c2166ebca44be969945fac1bf66e0",
            "value": 69556
          }
        },
        "905283d0a99646f685b04de0d0e30cac": {
          "model_module": "@jupyter-widgets/controls",
          "model_name": "HTMLModel",
          "model_module_version": "1.5.0",
          "state": {
            "_dom_classes": [],
            "_model_module": "@jupyter-widgets/controls",
            "_model_module_version": "1.5.0",
            "_model_name": "HTMLModel",
            "_view_count": null,
            "_view_module": "@jupyter-widgets/controls",
            "_view_module_version": "1.5.0",
            "_view_name": "HTMLView",
            "description": "",
            "description_tooltip": null,
            "layout": "IPY_MODEL_3714ba6c2f2249109840c211d15ecd58",
            "placeholder": "​",
            "style": "IPY_MODEL_05b5d185ee4649038d2b5c6eac33b9d5",
            "value": " 69.6k/69.6k [00:00&lt;00:00, 4.78MB/s]"
          }
        },
        "9181cccea395400db9641f43f1a31eb5": {
          "model_module": "@jupyter-widgets/base",
          "model_name": "LayoutModel",
          "model_module_version": "1.2.0",
          "state": {
            "_model_module": "@jupyter-widgets/base",
            "_model_module_version": "1.2.0",
            "_model_name": "LayoutModel",
            "_view_count": null,
            "_view_module": "@jupyter-widgets/base",
            "_view_module_version": "1.2.0",
            "_view_name": "LayoutView",
            "align_content": null,
            "align_items": null,
            "align_self": null,
            "border": null,
            "bottom": null,
            "display": null,
            "flex": null,
            "flex_flow": null,
            "grid_area": null,
            "grid_auto_columns": null,
            "grid_auto_flow": null,
            "grid_auto_rows": null,
            "grid_column": null,
            "grid_gap": null,
            "grid_row": null,
            "grid_template_areas": null,
            "grid_template_columns": null,
            "grid_template_rows": null,
            "height": null,
            "justify_content": null,
            "justify_items": null,
            "left": null,
            "margin": null,
            "max_height": null,
            "max_width": null,
            "min_height": null,
            "min_width": null,
            "object_fit": null,
            "object_position": null,
            "order": null,
            "overflow": null,
            "overflow_x": null,
            "overflow_y": null,
            "padding": null,
            "right": null,
            "top": null,
            "visibility": null,
            "width": null
          }
        },
        "1d64f4f8895b4aeba9331ea610eafac1": {
          "model_module": "@jupyter-widgets/base",
          "model_name": "LayoutModel",
          "model_module_version": "1.2.0",
          "state": {
            "_model_module": "@jupyter-widgets/base",
            "_model_module_version": "1.2.0",
            "_model_name": "LayoutModel",
            "_view_count": null,
            "_view_module": "@jupyter-widgets/base",
            "_view_module_version": "1.2.0",
            "_view_name": "LayoutView",
            "align_content": null,
            "align_items": null,
            "align_self": null,
            "border": null,
            "bottom": null,
            "display": null,
            "flex": null,
            "flex_flow": null,
            "grid_area": null,
            "grid_auto_columns": null,
            "grid_auto_flow": null,
            "grid_auto_rows": null,
            "grid_column": null,
            "grid_gap": null,
            "grid_row": null,
            "grid_template_areas": null,
            "grid_template_columns": null,
            "grid_template_rows": null,
            "height": null,
            "justify_content": null,
            "justify_items": null,
            "left": null,
            "margin": null,
            "max_height": null,
            "max_width": null,
            "min_height": null,
            "min_width": null,
            "object_fit": null,
            "object_position": null,
            "order": null,
            "overflow": null,
            "overflow_x": null,
            "overflow_y": null,
            "padding": null,
            "right": null,
            "top": null,
            "visibility": null,
            "width": null
          }
        },
        "928ef55c1fae431ea9ed072486b9e780": {
          "model_module": "@jupyter-widgets/controls",
          "model_name": "DescriptionStyleModel",
          "model_module_version": "1.5.0",
          "state": {
            "_model_module": "@jupyter-widgets/controls",
            "_model_module_version": "1.5.0",
            "_model_name": "DescriptionStyleModel",
            "_view_count": null,
            "_view_module": "@jupyter-widgets/base",
            "_view_module_version": "1.2.0",
            "_view_name": "StyleView",
            "description_width": ""
          }
        },
        "05b1136b3a1e43ae84356880953aca69": {
          "model_module": "@jupyter-widgets/base",
          "model_name": "LayoutModel",
          "model_module_version": "1.2.0",
          "state": {
            "_model_module": "@jupyter-widgets/base",
            "_model_module_version": "1.2.0",
            "_model_name": "LayoutModel",
            "_view_count": null,
            "_view_module": "@jupyter-widgets/base",
            "_view_module_version": "1.2.0",
            "_view_name": "LayoutView",
            "align_content": null,
            "align_items": null,
            "align_self": null,
            "border": null,
            "bottom": null,
            "display": null,
            "flex": null,
            "flex_flow": null,
            "grid_area": null,
            "grid_auto_columns": null,
            "grid_auto_flow": null,
            "grid_auto_rows": null,
            "grid_column": null,
            "grid_gap": null,
            "grid_row": null,
            "grid_template_areas": null,
            "grid_template_columns": null,
            "grid_template_rows": null,
            "height": null,
            "justify_content": null,
            "justify_items": null,
            "left": null,
            "margin": null,
            "max_height": null,
            "max_width": null,
            "min_height": null,
            "min_width": null,
            "object_fit": null,
            "object_position": null,
            "order": null,
            "overflow": null,
            "overflow_x": null,
            "overflow_y": null,
            "padding": null,
            "right": null,
            "top": null,
            "visibility": null,
            "width": null
          }
        },
        "c25c2166ebca44be969945fac1bf66e0": {
          "model_module": "@jupyter-widgets/controls",
          "model_name": "ProgressStyleModel",
          "model_module_version": "1.5.0",
          "state": {
            "_model_module": "@jupyter-widgets/controls",
            "_model_module_version": "1.5.0",
            "_model_name": "ProgressStyleModel",
            "_view_count": null,
            "_view_module": "@jupyter-widgets/base",
            "_view_module_version": "1.2.0",
            "_view_name": "StyleView",
            "bar_color": null,
            "description_width": ""
          }
        },
        "3714ba6c2f2249109840c211d15ecd58": {
          "model_module": "@jupyter-widgets/base",
          "model_name": "LayoutModel",
          "model_module_version": "1.2.0",
          "state": {
            "_model_module": "@jupyter-widgets/base",
            "_model_module_version": "1.2.0",
            "_model_name": "LayoutModel",
            "_view_count": null,
            "_view_module": "@jupyter-widgets/base",
            "_view_module_version": "1.2.0",
            "_view_name": "LayoutView",
            "align_content": null,
            "align_items": null,
            "align_self": null,
            "border": null,
            "bottom": null,
            "display": null,
            "flex": null,
            "flex_flow": null,
            "grid_area": null,
            "grid_auto_columns": null,
            "grid_auto_flow": null,
            "grid_auto_rows": null,
            "grid_column": null,
            "grid_gap": null,
            "grid_row": null,
            "grid_template_areas": null,
            "grid_template_columns": null,
            "grid_template_rows": null,
            "height": null,
            "justify_content": null,
            "justify_items": null,
            "left": null,
            "margin": null,
            "max_height": null,
            "max_width": null,
            "min_height": null,
            "min_width": null,
            "object_fit": null,
            "object_position": null,
            "order": null,
            "overflow": null,
            "overflow_x": null,
            "overflow_y": null,
            "padding": null,
            "right": null,
            "top": null,
            "visibility": null,
            "width": null
          }
        },
        "05b5d185ee4649038d2b5c6eac33b9d5": {
          "model_module": "@jupyter-widgets/controls",
          "model_name": "DescriptionStyleModel",
          "model_module_version": "1.5.0",
          "state": {
            "_model_module": "@jupyter-widgets/controls",
            "_model_module_version": "1.5.0",
            "_model_name": "DescriptionStyleModel",
            "_view_count": null,
            "_view_module": "@jupyter-widgets/base",
            "_view_module_version": "1.2.0",
            "_view_name": "StyleView",
            "description_width": ""
          }
        },
        "2cd8dbaab70843ddb9c5e419dc90bfbf": {
          "model_module": "@jupyter-widgets/controls",
          "model_name": "HBoxModel",
          "model_module_version": "1.5.0",
          "state": {
            "_dom_classes": [],
            "_model_module": "@jupyter-widgets/controls",
            "_model_module_version": "1.5.0",
            "_model_name": "HBoxModel",
            "_view_count": null,
            "_view_module": "@jupyter-widgets/controls",
            "_view_module_version": "1.5.0",
            "_view_name": "HBoxView",
            "box_style": "",
            "children": [
              "IPY_MODEL_73ccbfc8e6184423a366f6556dea8e45",
              "IPY_MODEL_a45ac477c02f4050ab930ae313db8810",
              "IPY_MODEL_c014c2eba5ee4094972a0a1fbb0c03b2"
            ],
            "layout": "IPY_MODEL_3fa3c02135074720a051f8c8bc72b36a"
          }
        },
        "73ccbfc8e6184423a366f6556dea8e45": {
          "model_module": "@jupyter-widgets/controls",
          "model_name": "HTMLModel",
          "model_module_version": "1.5.0",
          "state": {
            "_dom_classes": [],
            "_model_module": "@jupyter-widgets/controls",
            "_model_module_version": "1.5.0",
            "_model_name": "HTMLModel",
            "_view_count": null,
            "_view_module": "@jupyter-widgets/controls",
            "_view_module_version": "1.5.0",
            "_view_name": "HTMLView",
            "description": "",
            "description_tooltip": null,
            "layout": "IPY_MODEL_1d4113ff57ec4af2b1e4e212fa2b8bea",
            "placeholder": "​",
            "style": "IPY_MODEL_87d7af12002b4915bc1c43d56d601d04",
            "value": "model.safetensors: 100%"
          }
        },
        "a45ac477c02f4050ab930ae313db8810": {
          "model_module": "@jupyter-widgets/controls",
          "model_name": "FloatProgressModel",
          "model_module_version": "1.5.0",
          "state": {
            "_dom_classes": [],
            "_model_module": "@jupyter-widgets/controls",
            "_model_module_version": "1.5.0",
            "_model_name": "FloatProgressModel",
            "_view_count": null,
            "_view_module": "@jupyter-widgets/controls",
            "_view_module_version": "1.5.0",
            "_view_name": "ProgressView",
            "bar_style": "success",
            "description": "",
            "description_tooltip": null,
            "layout": "IPY_MODEL_25ab95a6bb464acd88c0d814856dd593",
            "max": 102482854,
            "min": 0,
            "orientation": "horizontal",
            "style": "IPY_MODEL_9fc98a8a6a8f49aea7395395c2a215c9",
            "value": 102482854
          }
        },
        "c014c2eba5ee4094972a0a1fbb0c03b2": {
          "model_module": "@jupyter-widgets/controls",
          "model_name": "HTMLModel",
          "model_module_version": "1.5.0",
          "state": {
            "_dom_classes": [],
            "_model_module": "@jupyter-widgets/controls",
            "_model_module_version": "1.5.0",
            "_model_name": "HTMLModel",
            "_view_count": null,
            "_view_module": "@jupyter-widgets/controls",
            "_view_module_version": "1.5.0",
            "_view_name": "HTMLView",
            "description": "",
            "description_tooltip": null,
            "layout": "IPY_MODEL_6056c9c33957414b942b580f038169c8",
            "placeholder": "​",
            "style": "IPY_MODEL_e87f15134eef4291b1e75d3d61f629cf",
            "value": " 102M/102M [00:00&lt;00:00, 149MB/s]"
          }
        },
        "3fa3c02135074720a051f8c8bc72b36a": {
          "model_module": "@jupyter-widgets/base",
          "model_name": "LayoutModel",
          "model_module_version": "1.2.0",
          "state": {
            "_model_module": "@jupyter-widgets/base",
            "_model_module_version": "1.2.0",
            "_model_name": "LayoutModel",
            "_view_count": null,
            "_view_module": "@jupyter-widgets/base",
            "_view_module_version": "1.2.0",
            "_view_name": "LayoutView",
            "align_content": null,
            "align_items": null,
            "align_self": null,
            "border": null,
            "bottom": null,
            "display": null,
            "flex": null,
            "flex_flow": null,
            "grid_area": null,
            "grid_auto_columns": null,
            "grid_auto_flow": null,
            "grid_auto_rows": null,
            "grid_column": null,
            "grid_gap": null,
            "grid_row": null,
            "grid_template_areas": null,
            "grid_template_columns": null,
            "grid_template_rows": null,
            "height": null,
            "justify_content": null,
            "justify_items": null,
            "left": null,
            "margin": null,
            "max_height": null,
            "max_width": null,
            "min_height": null,
            "min_width": null,
            "object_fit": null,
            "object_position": null,
            "order": null,
            "overflow": null,
            "overflow_x": null,
            "overflow_y": null,
            "padding": null,
            "right": null,
            "top": null,
            "visibility": null,
            "width": null
          }
        },
        "1d4113ff57ec4af2b1e4e212fa2b8bea": {
          "model_module": "@jupyter-widgets/base",
          "model_name": "LayoutModel",
          "model_module_version": "1.2.0",
          "state": {
            "_model_module": "@jupyter-widgets/base",
            "_model_module_version": "1.2.0",
            "_model_name": "LayoutModel",
            "_view_count": null,
            "_view_module": "@jupyter-widgets/base",
            "_view_module_version": "1.2.0",
            "_view_name": "LayoutView",
            "align_content": null,
            "align_items": null,
            "align_self": null,
            "border": null,
            "bottom": null,
            "display": null,
            "flex": null,
            "flex_flow": null,
            "grid_area": null,
            "grid_auto_columns": null,
            "grid_auto_flow": null,
            "grid_auto_rows": null,
            "grid_column": null,
            "grid_gap": null,
            "grid_row": null,
            "grid_template_areas": null,
            "grid_template_columns": null,
            "grid_template_rows": null,
            "height": null,
            "justify_content": null,
            "justify_items": null,
            "left": null,
            "margin": null,
            "max_height": null,
            "max_width": null,
            "min_height": null,
            "min_width": null,
            "object_fit": null,
            "object_position": null,
            "order": null,
            "overflow": null,
            "overflow_x": null,
            "overflow_y": null,
            "padding": null,
            "right": null,
            "top": null,
            "visibility": null,
            "width": null
          }
        },
        "87d7af12002b4915bc1c43d56d601d04": {
          "model_module": "@jupyter-widgets/controls",
          "model_name": "DescriptionStyleModel",
          "model_module_version": "1.5.0",
          "state": {
            "_model_module": "@jupyter-widgets/controls",
            "_model_module_version": "1.5.0",
            "_model_name": "DescriptionStyleModel",
            "_view_count": null,
            "_view_module": "@jupyter-widgets/base",
            "_view_module_version": "1.2.0",
            "_view_name": "StyleView",
            "description_width": ""
          }
        },
        "25ab95a6bb464acd88c0d814856dd593": {
          "model_module": "@jupyter-widgets/base",
          "model_name": "LayoutModel",
          "model_module_version": "1.2.0",
          "state": {
            "_model_module": "@jupyter-widgets/base",
            "_model_module_version": "1.2.0",
            "_model_name": "LayoutModel",
            "_view_count": null,
            "_view_module": "@jupyter-widgets/base",
            "_view_module_version": "1.2.0",
            "_view_name": "LayoutView",
            "align_content": null,
            "align_items": null,
            "align_self": null,
            "border": null,
            "bottom": null,
            "display": null,
            "flex": null,
            "flex_flow": null,
            "grid_area": null,
            "grid_auto_columns": null,
            "grid_auto_flow": null,
            "grid_auto_rows": null,
            "grid_column": null,
            "grid_gap": null,
            "grid_row": null,
            "grid_template_areas": null,
            "grid_template_columns": null,
            "grid_template_rows": null,
            "height": null,
            "justify_content": null,
            "justify_items": null,
            "left": null,
            "margin": null,
            "max_height": null,
            "max_width": null,
            "min_height": null,
            "min_width": null,
            "object_fit": null,
            "object_position": null,
            "order": null,
            "overflow": null,
            "overflow_x": null,
            "overflow_y": null,
            "padding": null,
            "right": null,
            "top": null,
            "visibility": null,
            "width": null
          }
        },
        "9fc98a8a6a8f49aea7395395c2a215c9": {
          "model_module": "@jupyter-widgets/controls",
          "model_name": "ProgressStyleModel",
          "model_module_version": "1.5.0",
          "state": {
            "_model_module": "@jupyter-widgets/controls",
            "_model_module_version": "1.5.0",
            "_model_name": "ProgressStyleModel",
            "_view_count": null,
            "_view_module": "@jupyter-widgets/base",
            "_view_module_version": "1.2.0",
            "_view_name": "StyleView",
            "bar_color": null,
            "description_width": ""
          }
        },
        "6056c9c33957414b942b580f038169c8": {
          "model_module": "@jupyter-widgets/base",
          "model_name": "LayoutModel",
          "model_module_version": "1.2.0",
          "state": {
            "_model_module": "@jupyter-widgets/base",
            "_model_module_version": "1.2.0",
            "_model_name": "LayoutModel",
            "_view_count": null,
            "_view_module": "@jupyter-widgets/base",
            "_view_module_version": "1.2.0",
            "_view_name": "LayoutView",
            "align_content": null,
            "align_items": null,
            "align_self": null,
            "border": null,
            "bottom": null,
            "display": null,
            "flex": null,
            "flex_flow": null,
            "grid_area": null,
            "grid_auto_columns": null,
            "grid_auto_flow": null,
            "grid_auto_rows": null,
            "grid_column": null,
            "grid_gap": null,
            "grid_row": null,
            "grid_template_areas": null,
            "grid_template_columns": null,
            "grid_template_rows": null,
            "height": null,
            "justify_content": null,
            "justify_items": null,
            "left": null,
            "margin": null,
            "max_height": null,
            "max_width": null,
            "min_height": null,
            "min_width": null,
            "object_fit": null,
            "object_position": null,
            "order": null,
            "overflow": null,
            "overflow_x": null,
            "overflow_y": null,
            "padding": null,
            "right": null,
            "top": null,
            "visibility": null,
            "width": null
          }
        },
        "e87f15134eef4291b1e75d3d61f629cf": {
          "model_module": "@jupyter-widgets/controls",
          "model_name": "DescriptionStyleModel",
          "model_module_version": "1.5.0",
          "state": {
            "_model_module": "@jupyter-widgets/controls",
            "_model_module_version": "1.5.0",
            "_model_name": "DescriptionStyleModel",
            "_view_count": null,
            "_view_module": "@jupyter-widgets/base",
            "_view_module_version": "1.2.0",
            "_view_name": "StyleView",
            "description_width": ""
          }
        }
      }
    }
  },
  "cells": [
    {
      "cell_type": "markdown",
      "metadata": {
        "id": "view-in-github",
        "colab_type": "text"
      },
      "source": [
        "<a href=\"https://colab.research.google.com/github/DineshSiddhartha/SAI_A5/blob/main/SAI_A5.ipynb\" target=\"_parent\"><img src=\"https://colab.research.google.com/assets/colab-badge.svg\" alt=\"Open In Colab\"/></a>"
      ]
    },
    {
      "cell_type": "code",
      "source": [
        "!unzip /content/test.zip"
      ],
      "metadata": {
        "colab": {
          "base_uri": "https://localhost:8080/"
        },
        "id": "370cTGR4QiAs",
        "outputId": "177caa4e-e4e9-43a0-829d-23f5225580d0"
      },
      "execution_count": null,
      "outputs": [
        {
          "output_type": "stream",
          "name": "stdout",
          "text": [
            "Archive:  /content/test.zip\n",
            "   creating: cats/\n",
            "  inflating: cats/cat_190.jpg        \n",
            "  inflating: __MACOSX/cats/._cat_190.jpg  \n",
            "  inflating: cats/cat_147.jpg        \n",
            "  inflating: __MACOSX/cats/._cat_147.jpg  \n",
            "  inflating: cats/cat_542.jpg        \n",
            "  inflating: __MACOSX/cats/._cat_542.jpg  \n",
            "  inflating: cats/cat_595.jpg        \n",
            "  inflating: __MACOSX/cats/._cat_595.jpg  \n",
            "  inflating: cats/cat_422.jpg        \n",
            "  inflating: __MACOSX/cats/._cat_422.jpg  \n",
            "  inflating: cats/cat_583.jpg        \n",
            "  inflating: __MACOSX/cats/._cat_583.jpg  \n",
            "  inflating: cats/cat_384.jpg        \n",
            "  inflating: __MACOSX/cats/._cat_384.jpg  \n",
            "  inflating: cats/cat_586.jpg        \n",
            "  inflating: __MACOSX/cats/._cat_586.jpg  \n",
            "  inflating: cats/cat_545.jpg        \n",
            "  inflating: __MACOSX/cats/._cat_545.jpg  \n",
            "  inflating: cats/cat_223.jpg        \n",
            "  inflating: __MACOSX/cats/._cat_223.jpg  \n",
            "  inflating: cats/cat_551.jpg        \n",
            "  inflating: __MACOSX/cats/._cat_551.jpg  \n",
            "  inflating: cats/cat_587.jpg        \n",
            "  inflating: __MACOSX/cats/._cat_587.jpg  \n",
            "  inflating: cats/cat_140.jpg        \n",
            "  inflating: __MACOSX/cats/._cat_140.jpg  \n",
            "  inflating: cats/cat_342.jpg        \n",
            "  inflating: __MACOSX/cats/._cat_342.jpg  \n",
            "  inflating: cats/cat_430.jpg        \n",
            "  inflating: __MACOSX/cats/._cat_430.jpg  \n",
            "  inflating: cats/cat_418.jpg        \n",
            "  inflating: __MACOSX/cats/._cat_418.jpg  \n",
            "  inflating: cats/cat_395.jpg        \n",
            "  inflating: __MACOSX/cats/._cat_395.jpg  \n",
            "  inflating: cats/cat_156.jpg        \n",
            "  inflating: __MACOSX/cats/._cat_156.jpg  \n",
            "  inflating: cats/cat_585.jpg        \n",
            "  inflating: __MACOSX/cats/._cat_585.jpg  \n",
            "  inflating: cats/cat_234.jpg        \n",
            "  inflating: __MACOSX/cats/._cat_234.jpg  \n",
            "  inflating: cats/cat_355.jpg        \n",
            "  inflating: __MACOSX/cats/._cat_355.jpg  \n",
            "  inflating: cats/cat_433.jpg        \n",
            "  inflating: __MACOSX/cats/._cat_433.jpg  \n",
            "  inflating: cats/cat_341.jpg        \n",
            "  inflating: __MACOSX/cats/._cat_341.jpg  \n",
            "  inflating: cats/cat_332.jpg        \n",
            "  inflating: __MACOSX/cats/._cat_332.jpg  \n",
            "  inflating: cats/cat_468.jpg        \n",
            "  inflating: __MACOSX/cats/._cat_468.jpg  \n",
            "  inflating: cats/cat_124.jpg        \n",
            "  inflating: __MACOSX/cats/._cat_124.jpg  \n",
            "  inflating: cats/cat_118.jpg        \n",
            "  inflating: __MACOSX/cats/._cat_118.jpg  \n",
            "  inflating: cats/cat_520.jpg        \n",
            "  inflating: __MACOSX/cats/._cat_520.jpg  \n",
            "  inflating: cats/cat_290.jpg        \n",
            "  inflating: __MACOSX/cats/._cat_290.jpg  \n",
            "  inflating: cats/cat_119.jpg        \n",
            "  inflating: __MACOSX/cats/._cat_119.jpg  \n",
            "  inflating: cats/cat_88.jpg         \n",
            "  inflating: __MACOSX/cats/._cat_88.jpg  \n",
            "  inflating: cats/cat_496.jpg        \n",
            "  inflating: __MACOSX/cats/._cat_496.jpg  \n",
            "  inflating: cats/cat_523.jpg        \n",
            "  inflating: __MACOSX/cats/._cat_523.jpg  \n",
            "  inflating: cats/cat_251.jpg        \n",
            "  inflating: __MACOSX/cats/._cat_251.jpg  \n",
            "  inflating: cats/cat_279.jpg        \n",
            "  inflating: __MACOSX/cats/._cat_279.jpg  \n",
            "  inflating: cats/cat_244.jpg        \n",
            "  inflating: __MACOSX/cats/._cat_244.jpg  \n",
            "  inflating: cats/cat_60.jpg         \n",
            "  inflating: __MACOSX/cats/._cat_60.jpg  \n",
            "  inflating: cats/cat_446.jpg        \n",
            "  inflating: __MACOSX/cats/._cat_446.jpg  \n",
            "  inflating: cats/cat_268.jpg        \n",
            "  inflating: __MACOSX/cats/._cat_268.jpg  \n",
            "  inflating: cats/cat_255.jpg        \n",
            "  inflating: __MACOSX/cats/._cat_255.jpg  \n",
            "  inflating: cats/cat_109.jpg        \n",
            "  inflating: __MACOSX/cats/._cat_109.jpg  \n",
            "  inflating: cats/cat_525.jpg        \n",
            "  inflating: __MACOSX/cats/._cat_525.jpg  \n",
            "  inflating: cats/cat_281.jpg        \n",
            "  inflating: __MACOSX/cats/._cat_281.jpg  \n",
            "  inflating: cats/cat_94.jpg         \n",
            "  inflating: __MACOSX/cats/._cat_94.jpg  \n",
            "  inflating: cats/cat_313.jpg        \n",
            "  inflating: __MACOSX/cats/._cat_313.jpg  \n",
            "  inflating: cats/cat_1.jpg          \n",
            "  inflating: __MACOSX/cats/._cat_1.jpg  \n",
            "  inflating: cats/cat_528.jpg        \n",
            "  inflating: __MACOSX/cats/._cat_528.jpg  \n",
            "  inflating: cats/cat_306.jpg        \n",
            "  inflating: __MACOSX/cats/._cat_306.jpg  \n",
            "  inflating: cats/cat_56.jpg         \n",
            "  inflating: __MACOSX/cats/._cat_56.jpg  \n",
            "  inflating: cats/cat_106.jpg        \n",
            "  inflating: __MACOSX/cats/._cat_106.jpg  \n",
            "  inflating: cats/cat_113.jpg        \n",
            "  inflating: __MACOSX/cats/._cat_113.jpg  \n",
            "  inflating: cats/cat_96.jpg         \n",
            "  inflating: __MACOSX/cats/._cat_96.jpg  \n",
            "  inflating: cats/cat_473.jpg        \n",
            "  inflating: __MACOSX/cats/._cat_473.jpg  \n",
            "  inflating: cats/cat_116.jpg        \n",
            "  inflating: __MACOSX/cats/._cat_116.jpg  \n",
            "  inflating: cats/cat_464.jpg        \n",
            "  inflating: __MACOSX/cats/._cat_464.jpg  \n",
            "  inflating: cats/cat_114.jpg        \n",
            "  inflating: __MACOSX/cats/._cat_114.jpg  \n",
            "  inflating: cats/cat_538.jpg        \n",
            "  inflating: __MACOSX/cats/._cat_538.jpg  \n",
            "  inflating: cats/cat_504.jpg        \n",
            "  inflating: __MACOSX/cats/._cat_504.jpg  \n",
            "  inflating: cats/cat_5.jpg          \n",
            "  inflating: __MACOSX/cats/._cat_5.jpg  \n",
            "  inflating: cats/cat_358.jpg        \n",
            "  inflating: __MACOSX/cats/._cat_358.jpg  \n",
            "  inflating: cats/cat_417.jpg        \n",
            "  inflating: __MACOSX/cats/._cat_417.jpg  \n",
            "  inflating: cats/cat_371.jpg        \n",
            "  inflating: __MACOSX/cats/._cat_371.jpg  \n",
            "  inflating: cats/cat_575.jpg        \n",
            "  inflating: __MACOSX/cats/._cat_575.jpg  \n",
            "  inflating: cats/cat_574.jpg        \n",
            "  inflating: __MACOSX/cats/._cat_574.jpg  \n",
            "  inflating: cats/cat_158.jpg        \n",
            "  inflating: __MACOSX/cats/._cat_158.jpg  \n",
            "  inflating: cats/cat_564.jpg        \n",
            "  inflating: __MACOSX/cats/._cat_564.jpg  \n",
            "  inflating: cats/cat_203.jpg        \n",
            "  inflating: __MACOSX/cats/._cat_203.jpg  \n",
            "  inflating: cats/cat_375.jpg        \n",
            "  inflating: __MACOSX/cats/._cat_375.jpg  \n",
            "  inflating: cats/cat_162.jpg        \n",
            "  inflating: __MACOSX/cats/._cat_162.jpg  \n",
            "  inflating: cats/cat_18.jpg         \n",
            "  inflating: __MACOSX/cats/._cat_18.jpg  \n",
            "   creating: dogs/\n",
            "  inflating: dogs/dog_147.jpg        \n",
            "  inflating: __MACOSX/dogs/._dog_147.jpg  \n",
            "  inflating: dogs/dog_219.jpg        \n",
            "  inflating: __MACOSX/dogs/._dog_219.jpg  \n",
            "  inflating: dogs/dog_191.jpg        \n",
            "  inflating: __MACOSX/dogs/._dog_191.jpg  \n",
            "  inflating: dogs/dog_344.jpg        \n",
            "  inflating: __MACOSX/dogs/._dog_344.jpg  \n",
            "  inflating: dogs/dog_150.jpg        \n",
            "  inflating: __MACOSX/dogs/._dog_150.jpg  \n",
            "  inflating: dogs/dog_227.jpg        \n",
            "  inflating: __MACOSX/dogs/._dog_227.jpg  \n",
            "  inflating: dogs/dog_421.jpg        \n",
            "  inflating: __MACOSX/dogs/._dog_421.jpg  \n",
            "  inflating: dogs/dog_380.jpg        \n",
            "  inflating: __MACOSX/dogs/._dog_380.jpg  \n",
            "  inflating: dogs/dog_155.jpg        \n",
            "  inflating: __MACOSX/dogs/._dog_155.jpg  \n",
            "  inflating: dogs/dog_141.jpg        \n",
            "  inflating: __MACOSX/dogs/._dog_141.jpg  \n",
            "  inflating: dogs/dog_196.jpg        \n",
            "  inflating: __MACOSX/dogs/._dog_196.jpg  \n",
            "  inflating: dogs/dog_551.jpg        \n",
            "  inflating: __MACOSX/dogs/._dog_551.jpg  \n",
            "  inflating: dogs/dog_237.jpg        \n",
            "  inflating: __MACOSX/dogs/._dog_237.jpg  \n",
            "  inflating: dogs/dog_236.jpg        \n",
            "  inflating: __MACOSX/dogs/._dog_236.jpg  \n",
            "  inflating: dogs/dog_197.jpg        \n",
            "  inflating: __MACOSX/dogs/._dog_197.jpg  \n",
            "  inflating: dogs/dog_168.jpg        \n",
            "  inflating: __MACOSX/dogs/._dog_168.jpg  \n",
            "  inflating: dogs/dog_28.jpg         \n",
            "  inflating: __MACOSX/dogs/._dog_28.jpg  \n",
            "  inflating: dogs/dog_354.jpg        \n",
            "  inflating: __MACOSX/dogs/._dog_354.jpg  \n",
            "  inflating: dogs/dog_142.jpg        \n",
            "  inflating: __MACOSX/dogs/._dog_142.jpg  \n",
            "  inflating: dogs/dog_181.jpg        \n",
            "  inflating: __MACOSX/dogs/._dog_181.jpg  \n",
            "  inflating: dogs/dog_194.jpg        \n",
            "  inflating: __MACOSX/dogs/._dog_194.jpg  \n",
            "  inflating: dogs/dog_369.jpg        \n",
            "  inflating: __MACOSX/dogs/._dog_369.jpg  \n",
            "  inflating: dogs/dog_355.jpg        \n",
            "  inflating: __MACOSX/dogs/._dog_355.jpg  \n",
            "  inflating: dogs/dog_124.jpg        \n",
            "  inflating: __MACOSX/dogs/._dog_124.jpg  \n",
            "  inflating: dogs/dog_130.jpg        \n",
            "  inflating: __MACOSX/dogs/._dog_130.jpg  \n",
            "  inflating: dogs/dog_534.jpg        \n",
            "  inflating: __MACOSX/dogs/._dog_534.jpg  \n",
            "  inflating: dogs/dog_520.jpg        \n",
            "  inflating: __MACOSX/dogs/._dog_520.jpg  \n",
            "  inflating: dogs/dog_521.jpg        \n",
            "  inflating: __MACOSX/dogs/._dog_521.jpg  \n",
            "  inflating: dogs/dog_482.jpg        \n",
            "  inflating: __MACOSX/dogs/._dog_482.jpg  \n",
            "  inflating: dogs/dog_59.jpg         \n",
            "  inflating: __MACOSX/dogs/._dog_59.jpg  \n",
            "  inflating: dogs/dog_327.jpg        \n",
            "  inflating: __MACOSX/dogs/._dog_327.jpg  \n",
            "  inflating: dogs/dog_443.jpg        \n",
            "  inflating: __MACOSX/dogs/._dog_443.jpg  \n",
            "  inflating: dogs/dog_536.jpg        \n",
            "  inflating: __MACOSX/dogs/._dog_536.jpg  \n",
            "  inflating: dogs/dog_244.jpg        \n",
            "  inflating: __MACOSX/dogs/._dog_244.jpg  \n",
            "  inflating: dogs/dog_522.jpg        \n",
            "  inflating: __MACOSX/dogs/._dog_522.jpg  \n",
            "  inflating: dogs/dog_442.jpg        \n",
            "  inflating: __MACOSX/dogs/._dog_442.jpg  \n",
            "  inflating: dogs/dog_89.jpg         \n",
            "  inflating: __MACOSX/dogs/._dog_89.jpg  \n",
            "  inflating: dogs/dog_240.jpg        \n",
            "  inflating: __MACOSX/dogs/._dog_240.jpg  \n",
            "  inflating: dogs/dog_283.jpg        \n",
            "  inflating: __MACOSX/dogs/._dog_283.jpg  \n",
            "  inflating: dogs/dog_123.jpg        \n",
            "  inflating: __MACOSX/dogs/._dog_123.jpg  \n",
            "  inflating: dogs/dog_75.jpg         \n",
            "  inflating: __MACOSX/dogs/._dog_75.jpg  \n",
            "  inflating: dogs/dog_519.jpg        \n",
            "  inflating: __MACOSX/dogs/._dog_519.jpg  \n",
            "  inflating: dogs/dog_518.jpg        \n",
            "  inflating: __MACOSX/dogs/._dog_518.jpg  \n",
            "  inflating: dogs/dog_461.jpg        \n",
            "  inflating: __MACOSX/dogs/._dog_461.jpg  \n",
            "  inflating: dogs/dog_313.jpg        \n",
            "  inflating: __MACOSX/dogs/._dog_313.jpg  \n",
            "  inflating: dogs/dog_528.jpg        \n",
            "  inflating: __MACOSX/dogs/._dog_528.jpg  \n",
            "  inflating: dogs/dog_44.jpg         \n",
            "  inflating: __MACOSX/dogs/._dog_44.jpg  \n",
            "  inflating: dogs/dog_476.jpg        \n",
            "  inflating: __MACOSX/dogs/._dog_476.jpg  \n",
            "  inflating: dogs/dog_462.jpg        \n",
            "  inflating: __MACOSX/dogs/._dog_462.jpg  \n",
            "  inflating: dogs/dog_258.jpg        \n",
            "  inflating: __MACOSX/dogs/._dog_258.jpg  \n",
            "  inflating: dogs/dog_517.jpg        \n",
            "  inflating: __MACOSX/dogs/._dog_517.jpg  \n",
            "  inflating: dogs/dog_43.jpg         \n",
            "  inflating: __MACOSX/dogs/._dog_43.jpg  \n",
            "  inflating: dogs/dog_472.jpg        \n",
            "  inflating: __MACOSX/dogs/._dog_472.jpg  \n",
            "  inflating: dogs/dog_464.jpg        \n",
            "  inflating: __MACOSX/dogs/._dog_464.jpg  \n",
            "  inflating: dogs/dog_302.jpg        \n",
            "  inflating: __MACOSX/dogs/._dog_302.jpg  \n",
            "  inflating: dogs/dog_68.jpg         \n",
            "  inflating: __MACOSX/dogs/._dog_68.jpg  \n",
            "  inflating: dogs/dog_114.jpg        \n",
            "  inflating: __MACOSX/dogs/._dog_114.jpg  \n",
            "  inflating: dogs/dog_303.jpg        \n",
            "  inflating: __MACOSX/dogs/._dog_303.jpg  \n",
            "  inflating: dogs/dog_364.jpg        \n",
            "  inflating: __MACOSX/dogs/._dog_364.jpg  \n",
            "  inflating: dogs/dog_563.jpg        \n",
            "  inflating: __MACOSX/dogs/._dog_563.jpg  \n",
            "  inflating: dogs/dog_211.jpg        \n",
            "  inflating: __MACOSX/dogs/._dog_211.jpg  \n",
            "  inflating: dogs/dog_173.jpg        \n",
            "  inflating: __MACOSX/dogs/._dog_173.jpg  \n",
            "  inflating: dogs/dog_415.jpg        \n",
            "  inflating: __MACOSX/dogs/._dog_415.jpg  \n",
            "  inflating: dogs/dog_398.jpg        \n",
            "  inflating: __MACOSX/dogs/._dog_398.jpg  \n",
            "  inflating: dogs/dog_159.jpg        \n",
            "  inflating: __MACOSX/dogs/._dog_159.jpg  \n",
            "  inflating: dogs/dog_213.jpg        \n",
            "  inflating: __MACOSX/dogs/._dog_213.jpg  \n",
            "  inflating: dogs/dog_377.jpg        \n",
            "  inflating: __MACOSX/dogs/._dog_377.jpg  \n",
            "  inflating: dogs/dog_177.jpg        \n",
            "  inflating: __MACOSX/dogs/._dog_177.jpg  \n",
            "  inflating: dogs/dog_229.jpg        \n",
            "  inflating: __MACOSX/dogs/._dog_229.jpg  \n",
            "  inflating: dogs/dog_360.jpg        \n",
            "  inflating: __MACOSX/dogs/._dog_360.jpg  \n"
          ]
        }
      ]
    },
    {
      "cell_type": "code",
      "source": [
        "#data import\n",
        "import os\n",
        "Y_dogs=[]\n",
        "for i in range(70):\n",
        "  Y_dogs.append(1)\n",
        "Y_cats=[]\n",
        "for i in range(70):\n",
        "  Y_cats.append(0)\n",
        "source_dir = \"/content/cats\"\n",
        "cat_imgs = os.listdir(source_dir)\n",
        "source_dir = \"/content/dogs\"\n",
        "dog_imgs = os.listdir(source_dir)\n"
      ],
      "metadata": {
        "id": "za9kn-9KRuNb"
      },
      "execution_count": null,
      "outputs": []
    },
    {
      "cell_type": "code",
      "source": [
        "base_path = \"/content/cats/\"\n",
        "cat_imgs = [base_path + filename for filename in cat_imgs]\n",
        "base_path = \"/content/dogs/\"\n",
        "dog_imgs = [base_path + filename for filename in dog_imgs]\n"
      ],
      "metadata": {
        "id": "kx2gmhWKykaH"
      },
      "execution_count": null,
      "outputs": []
    },
    {
      "cell_type": "code",
      "source": [
        "print(len(cat_imgs))\n",
        "print(len(dog_imgs))"
      ],
      "metadata": {
        "colab": {
          "base_uri": "https://localhost:8080/"
        },
        "id": "O1fS0BIbWpbC",
        "outputId": "be5a61f2-f0db-429e-e8ac-c4c26c9aeff9"
      },
      "execution_count": null,
      "outputs": [
        {
          "output_type": "stream",
          "name": "stdout",
          "text": [
            "70\n",
            "70\n"
          ]
        }
      ]
    },
    {
      "cell_type": "code",
      "source": [
        "from sklearn.model_selection import train_test_split\n",
        "X_train_cat,X_test_cat,y_train_cat,y_test_cat=train_test_split(cat_imgs,Y_cats,test_size=0.2)\n",
        "X_train_dog,X_test_dog,y_train_dog,y_test_dog=train_test_split(dog_imgs,Y_dogs,test_size=0.2)"
      ],
      "metadata": {
        "id": "9p110Ik9Qq3g"
      },
      "execution_count": null,
      "outputs": []
    },
    {
      "cell_type": "code",
      "source": [
        "print(len(X_train_cat))\n",
        "print(len(y_train_cat))\n",
        "print(len(X_test_cat))\n",
        "print(len(y_test_cat))"
      ],
      "metadata": {
        "colab": {
          "base_uri": "https://localhost:8080/"
        },
        "id": "7n_5sCo9XG11",
        "outputId": "a51b196e-45de-4774-ade2-7da6c1192479"
      },
      "execution_count": null,
      "outputs": [
        {
          "output_type": "stream",
          "name": "stdout",
          "text": [
            "56\n",
            "56\n",
            "14\n",
            "14\n"
          ]
        }
      ]
    },
    {
      "cell_type": "code",
      "source": [
        "print(len(X_train_dog))\n",
        "print(len(y_train_dog))\n",
        "print(len(X_test_dog))\n",
        "print(len(y_test_dog))"
      ],
      "metadata": {
        "colab": {
          "base_uri": "https://localhost:8080/"
        },
        "id": "_Ep7VZGgz5_x",
        "outputId": "030edb6f-61ba-4a5c-ad35-83790131919a"
      },
      "execution_count": null,
      "outputs": [
        {
          "output_type": "stream",
          "name": "stdout",
          "text": [
            "56\n",
            "56\n",
            "14\n",
            "14\n"
          ]
        }
      ]
    },
    {
      "cell_type": "code",
      "source": [
        "#installing augly\n",
        "pip install augly"
      ],
      "metadata": {
        "id": "nrVakN8rTLyF",
        "colab": {
          "base_uri": "https://localhost:8080/"
        },
        "outputId": "aea1715e-bd9a-4c44-aa05-e079b45c96bd"
      },
      "execution_count": null,
      "outputs": [
        {
          "output_type": "stream",
          "name": "stdout",
          "text": [
            "Collecting augly\n",
            "  Downloading augly-1.0.0-py3-none-any.whl.metadata (9.4 kB)\n",
            "Collecting iopath>=0.1.8 (from augly)\n",
            "  Downloading iopath-0.1.10.tar.gz (42 kB)\n",
            "\u001b[?25l     \u001b[90m━━━━━━━━━━━━━━━━━━━━━━━━━━━━━━━━━━━━━━━━\u001b[0m \u001b[32m0.0/42.2 kB\u001b[0m \u001b[31m?\u001b[0m eta \u001b[36m-:--:--\u001b[0m\r\u001b[2K     \u001b[90m━━━━━━━━━━━━━━━━━━━━━━━━━━━━━━━━━━━━━━━━\u001b[0m \u001b[32m42.2/42.2 kB\u001b[0m \u001b[31m2.9 MB/s\u001b[0m eta \u001b[36m0:00:00\u001b[0m\n",
            "\u001b[?25h  Preparing metadata (setup.py) ... \u001b[?25l\u001b[?25hdone\n",
            "Collecting python-magic>=0.4.22 (from augly)\n",
            "  Downloading python_magic-0.4.27-py2.py3-none-any.whl.metadata (5.8 kB)\n",
            "Requirement already satisfied: regex>=2021.4.4 in /usr/local/lib/python3.11/dist-packages (from augly) (2024.11.6)\n",
            "Requirement already satisfied: tqdm in /usr/local/lib/python3.11/dist-packages (from iopath>=0.1.8->augly) (4.67.1)\n",
            "Requirement already satisfied: typing_extensions in /usr/local/lib/python3.11/dist-packages (from iopath>=0.1.8->augly) (4.12.2)\n",
            "Collecting portalocker (from iopath>=0.1.8->augly)\n",
            "  Downloading portalocker-3.1.1-py3-none-any.whl.metadata (8.6 kB)\n",
            "Downloading augly-1.0.0-py3-none-any.whl (24.3 MB)\n",
            "\u001b[2K   \u001b[90m━━━━━━━━━━━━━━━━━━━━━━━━━━━━━━━━━━━━━━━━\u001b[0m \u001b[32m24.3/24.3 MB\u001b[0m \u001b[31m87.8 MB/s\u001b[0m eta \u001b[36m0:00:00\u001b[0m\n",
            "\u001b[?25hDownloading python_magic-0.4.27-py2.py3-none-any.whl (13 kB)\n",
            "Downloading portalocker-3.1.1-py3-none-any.whl (19 kB)\n",
            "Building wheels for collected packages: iopath\n",
            "  Building wheel for iopath (setup.py) ... \u001b[?25l\u001b[?25hdone\n",
            "  Created wheel for iopath: filename=iopath-0.1.10-py3-none-any.whl size=31528 sha256=307e4d1d01b1bd7c3262226caf8d49cf7108d263b11b589b5f2093a4bc844152\n",
            "  Stored in directory: /root/.cache/pip/wheels/ba/5e/16/6117f8fe7e9c0c161a795e10d94645ebcf301ccbd01f66d8ec\n",
            "Successfully built iopath\n",
            "Installing collected packages: python-magic, portalocker, iopath, augly\n",
            "Successfully installed augly-1.0.0 iopath-0.1.10 portalocker-3.1.1 python-magic-0.4.27\n"
          ]
        }
      ]
    },
    {
      "cell_type": "code",
      "source": [
        "!pip install --upgrade augly -q"
      ],
      "metadata": {
        "id": "jwYWlufTmIyy"
      },
      "execution_count": null,
      "outputs": []
    },
    {
      "cell_type": "code",
      "source": [
        "import augly.image as imaugs\n",
        "from PIL import Image\n",
        "# augmentation functions\n",
        "def augmentor1(img_folder,img_file_names):\n",
        "  augmented_img_paths = []\n",
        "\n",
        "  for file_name in img_file_names:\n",
        "    image = Image.open(file_name)\n",
        "    augmented_image = imaugs.rotate(image, degrees=90)\n",
        "    augmented_image = imaugs.color_jitter(augmented_image,brightness_factor=0.2, contrast_factor=0.2, saturation_factor=0.2)\n",
        "    augmented_image = imaugs.brightness(augmented_image,factor=1.5)\n",
        "    augmented_image = imaugs.grayscale(augmented_image)\n",
        "    augmented_image_path = os.path.join(img_folder, f\"aug1_{os.path.basename(file_name)}\")\n",
        "    augmented_image.save(augmented_image_path)\n",
        "    augmented_img_paths.append(augmented_image_path)\n",
        "  return augmented_img_paths"
      ],
      "metadata": {
        "id": "EylPs8RIg9IA"
      },
      "execution_count": null,
      "outputs": []
    },
    {
      "cell_type": "code",
      "source": [
        "def augmentor2(img_folder,img_file_names):\n",
        "  augmented_img_paths = []\n",
        "\n",
        "  for file_name in img_file_names:\n",
        "    image = Image.open(file_name)\n",
        "    augmented_image = imaugs.hflip(image)\n",
        "    augmented_image = imaugs.pad(augmented_image)\n",
        "    augmented_image = imaugs.pixelization(augmented_image,ratio=0.8)\n",
        "    augmented_image = imaugs.random_noise(augmented_image)\n",
        "    augmented_image_path = os.path.join(img_folder, f\"aug2_{os.path.basename(file_name)}\")\n",
        "    augmented_image.save(augmented_image_path)\n",
        "    augmented_img_paths.append(augmented_image_path)\n",
        "  return augmented_img_paths"
      ],
      "metadata": {
        "id": "gDvmJ1QOUNgI"
      },
      "execution_count": null,
      "outputs": []
    },
    {
      "cell_type": "markdown",
      "source": [
        "Augmenting images"
      ],
      "metadata": {
        "id": "K7ZETqwS52WN"
      }
    },
    {
      "cell_type": "code",
      "source": [
        "X_train_cat1=augmentor1(\"/content/cats/\",X_train_cat)"
      ],
      "metadata": {
        "id": "05JnyrPDPyMr"
      },
      "execution_count": null,
      "outputs": []
    },
    {
      "cell_type": "code",
      "source": [
        "X_train_cat2=augmentor2(\"/content/cats/\",X_train_cat)"
      ],
      "metadata": {
        "id": "QfQ8ubdtUylq"
      },
      "execution_count": null,
      "outputs": []
    },
    {
      "cell_type": "code",
      "source": [
        "X_train_dog1=augmentor1(\"/content/dogs/\",X_train_dog)"
      ],
      "metadata": {
        "id": "310ft2n8Rm5p"
      },
      "execution_count": null,
      "outputs": []
    },
    {
      "cell_type": "code",
      "source": [
        "X_train_dog2=augmentor2(\"/content/dogs/\",X_train_dog)"
      ],
      "metadata": {
        "id": "-Yd_jWzzVoL9"
      },
      "execution_count": null,
      "outputs": []
    },
    {
      "cell_type": "code",
      "source": [
        "X_train_aug = X_train_cat + X_train_cat1 + X_train_cat2 + X_train_dog + X_train_dog1 + X_train_dog2\n",
        "y_train_aug = y_train_cat + y_train_cat + y_train_cat + y_train_dog + y_train_dog + y_train_dog"
      ],
      "metadata": {
        "id": "hZ1nB5bVVpRX"
      },
      "execution_count": null,
      "outputs": []
    },
    {
      "cell_type": "code",
      "source": [
        "X_test_aug = X_test_cat + X_test_dog\n",
        "y_test_aug = y_test_cat + y_test_dog"
      ],
      "metadata": {
        "id": "tYh9zKWTYWux"
      },
      "execution_count": null,
      "outputs": []
    },
    {
      "cell_type": "code",
      "source": [
        "print(len(X_train_aug))\n",
        "print(len(y_train_aug))\n",
        "print(len(X_test_aug))\n",
        "print(len(y_test_aug))"
      ],
      "metadata": {
        "colab": {
          "base_uri": "https://localhost:8080/"
        },
        "id": "pVpY5JNQYA-Y",
        "outputId": "cfc63d37-4c6b-44be-f150-c1566660b093"
      },
      "execution_count": null,
      "outputs": [
        {
          "output_type": "stream",
          "name": "stdout",
          "text": [
            "336\n",
            "336\n",
            "28\n",
            "28\n"
          ]
        }
      ]
    },
    {
      "cell_type": "markdown",
      "source": [
        "Shuffling the dataset"
      ],
      "metadata": {
        "id": "mQch1EzG55Aa"
      }
    },
    {
      "cell_type": "code",
      "source": [
        "import random\n",
        "\n",
        "combined = list(zip(X_train_aug, y_train_aug))\n",
        "\n",
        "# Shuffling the combined list\n",
        "random.shuffle(combined)\n",
        "\n",
        "X_train_aug, y_train_aug = zip(*combined)\n",
        "\n",
        "X_train_aug = list(X_train_aug)\n",
        "y_train_aug = list(y_train_aug)"
      ],
      "metadata": {
        "id": "kBOzGoXvY3PL"
      },
      "execution_count": null,
      "outputs": []
    },
    {
      "cell_type": "code",
      "source": [
        "import random\n",
        "\n",
        "combined = list(zip(X_test_aug, y_test_aug))\n",
        "\n",
        "# Shuffling the combined list\n",
        "random.shuffle(combined)\n",
        "\n",
        "X_test_aug, y_test_aug = zip(*combined)\n",
        "\n",
        "X_test_aug = list(X_test_aug)\n",
        "y_test_aug = list(y_test_aug)"
      ],
      "metadata": {
        "id": "F2GHu_nTZMA1"
      },
      "execution_count": null,
      "outputs": []
    },
    {
      "cell_type": "code",
      "source": [
        "!pip install transformers timm  # Installing necessary packages"
      ],
      "metadata": {
        "colab": {
          "base_uri": "https://localhost:8080/"
        },
        "id": "wTY3cqI3Z8Lj",
        "outputId": "a24ae0e4-6eee-4b7c-f5db-d9332dade1e8"
      },
      "execution_count": null,
      "outputs": [
        {
          "output_type": "stream",
          "name": "stdout",
          "text": [
            "Requirement already satisfied: transformers in /usr/local/lib/python3.11/dist-packages (4.48.2)\n",
            "Requirement already satisfied: timm in /usr/local/lib/python3.11/dist-packages (1.0.14)\n",
            "Requirement already satisfied: filelock in /usr/local/lib/python3.11/dist-packages (from transformers) (3.17.0)\n",
            "Requirement already satisfied: huggingface-hub<1.0,>=0.24.0 in /usr/local/lib/python3.11/dist-packages (from transformers) (0.28.1)\n",
            "Requirement already satisfied: numpy>=1.17 in /usr/local/lib/python3.11/dist-packages (from transformers) (1.26.4)\n",
            "Requirement already satisfied: packaging>=20.0 in /usr/local/lib/python3.11/dist-packages (from transformers) (24.2)\n",
            "Requirement already satisfied: pyyaml>=5.1 in /usr/local/lib/python3.11/dist-packages (from transformers) (6.0.2)\n",
            "Requirement already satisfied: regex!=2019.12.17 in /usr/local/lib/python3.11/dist-packages (from transformers) (2024.11.6)\n",
            "Requirement already satisfied: requests in /usr/local/lib/python3.11/dist-packages (from transformers) (2.32.3)\n",
            "Requirement already satisfied: tokenizers<0.22,>=0.21 in /usr/local/lib/python3.11/dist-packages (from transformers) (0.21.0)\n",
            "Requirement already satisfied: safetensors>=0.4.1 in /usr/local/lib/python3.11/dist-packages (from transformers) (0.5.2)\n",
            "Requirement already satisfied: tqdm>=4.27 in /usr/local/lib/python3.11/dist-packages (from transformers) (4.67.1)\n",
            "Requirement already satisfied: torch in /usr/local/lib/python3.11/dist-packages (from timm) (2.5.1+cu124)\n",
            "Requirement already satisfied: torchvision in /usr/local/lib/python3.11/dist-packages (from timm) (0.20.1+cu124)\n",
            "Requirement already satisfied: fsspec>=2023.5.0 in /usr/local/lib/python3.11/dist-packages (from huggingface-hub<1.0,>=0.24.0->transformers) (2024.10.0)\n",
            "Requirement already satisfied: typing-extensions>=3.7.4.3 in /usr/local/lib/python3.11/dist-packages (from huggingface-hub<1.0,>=0.24.0->transformers) (4.12.2)\n",
            "Requirement already satisfied: charset-normalizer<4,>=2 in /usr/local/lib/python3.11/dist-packages (from requests->transformers) (3.4.1)\n",
            "Requirement already satisfied: idna<4,>=2.5 in /usr/local/lib/python3.11/dist-packages (from requests->transformers) (3.10)\n",
            "Requirement already satisfied: urllib3<3,>=1.21.1 in /usr/local/lib/python3.11/dist-packages (from requests->transformers) (2.3.0)\n",
            "Requirement already satisfied: certifi>=2017.4.17 in /usr/local/lib/python3.11/dist-packages (from requests->transformers) (2025.1.31)\n",
            "Requirement already satisfied: networkx in /usr/local/lib/python3.11/dist-packages (from torch->timm) (3.4.2)\n",
            "Requirement already satisfied: jinja2 in /usr/local/lib/python3.11/dist-packages (from torch->timm) (3.1.5)\n",
            "Collecting nvidia-cuda-nvrtc-cu12==12.4.127 (from torch->timm)\n",
            "  Downloading nvidia_cuda_nvrtc_cu12-12.4.127-py3-none-manylinux2014_x86_64.whl.metadata (1.5 kB)\n",
            "Collecting nvidia-cuda-runtime-cu12==12.4.127 (from torch->timm)\n",
            "  Downloading nvidia_cuda_runtime_cu12-12.4.127-py3-none-manylinux2014_x86_64.whl.metadata (1.5 kB)\n",
            "Collecting nvidia-cuda-cupti-cu12==12.4.127 (from torch->timm)\n",
            "  Downloading nvidia_cuda_cupti_cu12-12.4.127-py3-none-manylinux2014_x86_64.whl.metadata (1.6 kB)\n",
            "Collecting nvidia-cudnn-cu12==9.1.0.70 (from torch->timm)\n",
            "  Downloading nvidia_cudnn_cu12-9.1.0.70-py3-none-manylinux2014_x86_64.whl.metadata (1.6 kB)\n",
            "Collecting nvidia-cublas-cu12==12.4.5.8 (from torch->timm)\n",
            "  Downloading nvidia_cublas_cu12-12.4.5.8-py3-none-manylinux2014_x86_64.whl.metadata (1.5 kB)\n",
            "Collecting nvidia-cufft-cu12==11.2.1.3 (from torch->timm)\n",
            "  Downloading nvidia_cufft_cu12-11.2.1.3-py3-none-manylinux2014_x86_64.whl.metadata (1.5 kB)\n",
            "Collecting nvidia-curand-cu12==10.3.5.147 (from torch->timm)\n",
            "  Downloading nvidia_curand_cu12-10.3.5.147-py3-none-manylinux2014_x86_64.whl.metadata (1.5 kB)\n",
            "Collecting nvidia-cusolver-cu12==11.6.1.9 (from torch->timm)\n",
            "  Downloading nvidia_cusolver_cu12-11.6.1.9-py3-none-manylinux2014_x86_64.whl.metadata (1.6 kB)\n",
            "Collecting nvidia-cusparse-cu12==12.3.1.170 (from torch->timm)\n",
            "  Downloading nvidia_cusparse_cu12-12.3.1.170-py3-none-manylinux2014_x86_64.whl.metadata (1.6 kB)\n",
            "Requirement already satisfied: nvidia-nccl-cu12==2.21.5 in /usr/local/lib/python3.11/dist-packages (from torch->timm) (2.21.5)\n",
            "Requirement already satisfied: nvidia-nvtx-cu12==12.4.127 in /usr/local/lib/python3.11/dist-packages (from torch->timm) (12.4.127)\n",
            "Collecting nvidia-nvjitlink-cu12==12.4.127 (from torch->timm)\n",
            "  Downloading nvidia_nvjitlink_cu12-12.4.127-py3-none-manylinux2014_x86_64.whl.metadata (1.5 kB)\n",
            "Requirement already satisfied: triton==3.1.0 in /usr/local/lib/python3.11/dist-packages (from torch->timm) (3.1.0)\n",
            "Requirement already satisfied: sympy==1.13.1 in /usr/local/lib/python3.11/dist-packages (from torch->timm) (1.13.1)\n",
            "Requirement already satisfied: mpmath<1.4,>=1.1.0 in /usr/local/lib/python3.11/dist-packages (from sympy==1.13.1->torch->timm) (1.3.0)\n",
            "Requirement already satisfied: pillow!=8.3.*,>=5.3.0 in /usr/local/lib/python3.11/dist-packages (from torchvision->timm) (11.1.0)\n",
            "Requirement already satisfied: MarkupSafe>=2.0 in /usr/local/lib/python3.11/dist-packages (from jinja2->torch->timm) (3.0.2)\n",
            "Downloading nvidia_cublas_cu12-12.4.5.8-py3-none-manylinux2014_x86_64.whl (363.4 MB)\n",
            "\u001b[2K   \u001b[90m━━━━━━━━━━━━━━━━━━━━━━━━━━━━━━━━━━━━━━━━\u001b[0m \u001b[32m363.4/363.4 MB\u001b[0m \u001b[31m4.1 MB/s\u001b[0m eta \u001b[36m0:00:00\u001b[0m\n",
            "\u001b[?25hDownloading nvidia_cuda_cupti_cu12-12.4.127-py3-none-manylinux2014_x86_64.whl (13.8 MB)\n",
            "\u001b[2K   \u001b[90m━━━━━━━━━━━━━━━━━━━━━━━━━━━━━━━━━━━━━━━━\u001b[0m \u001b[32m13.8/13.8 MB\u001b[0m \u001b[31m109.3 MB/s\u001b[0m eta \u001b[36m0:00:00\u001b[0m\n",
            "\u001b[?25hDownloading nvidia_cuda_nvrtc_cu12-12.4.127-py3-none-manylinux2014_x86_64.whl (24.6 MB)\n",
            "\u001b[2K   \u001b[90m━━━━━━━━━━━━━━━━━━━━━━━━━━━━━━━━━━━━━━━━\u001b[0m \u001b[32m24.6/24.6 MB\u001b[0m \u001b[31m84.1 MB/s\u001b[0m eta \u001b[36m0:00:00\u001b[0m\n",
            "\u001b[?25hDownloading nvidia_cuda_runtime_cu12-12.4.127-py3-none-manylinux2014_x86_64.whl (883 kB)\n",
            "\u001b[2K   \u001b[90m━━━━━━━━━━━━━━━━━━━━━━━━━━━━━━━━━━━━━━━━\u001b[0m \u001b[32m883.7/883.7 kB\u001b[0m \u001b[31m62.9 MB/s\u001b[0m eta \u001b[36m0:00:00\u001b[0m\n",
            "\u001b[?25hDownloading nvidia_cudnn_cu12-9.1.0.70-py3-none-manylinux2014_x86_64.whl (664.8 MB)\n",
            "\u001b[2K   \u001b[90m━━━━━━━━━━━━━━━━━━━━━━━━━━━━━━━━━━━━━━━━\u001b[0m \u001b[32m664.8/664.8 MB\u001b[0m \u001b[31m2.2 MB/s\u001b[0m eta \u001b[36m0:00:00\u001b[0m\n",
            "\u001b[?25hDownloading nvidia_cufft_cu12-11.2.1.3-py3-none-manylinux2014_x86_64.whl (211.5 MB)\n",
            "\u001b[2K   \u001b[90m━━━━━━━━━━━━━━━━━━━━━━━━━━━━━━━━━━━━━━━━\u001b[0m \u001b[32m211.5/211.5 MB\u001b[0m \u001b[31m5.3 MB/s\u001b[0m eta \u001b[36m0:00:00\u001b[0m\n",
            "\u001b[?25hDownloading nvidia_curand_cu12-10.3.5.147-py3-none-manylinux2014_x86_64.whl (56.3 MB)\n",
            "\u001b[2K   \u001b[90m━━━━━━━━━━━━━━━━━━━━━━━━━━━━━━━━━━━━━━━━\u001b[0m \u001b[32m56.3/56.3 MB\u001b[0m \u001b[31m12.5 MB/s\u001b[0m eta \u001b[36m0:00:00\u001b[0m\n",
            "\u001b[?25hDownloading nvidia_cusolver_cu12-11.6.1.9-py3-none-manylinux2014_x86_64.whl (127.9 MB)\n",
            "\u001b[2K   \u001b[90m━━━━━━━━━━━━━━━━━━━━━━━━━━━━━━━━━━━━━━━━\u001b[0m \u001b[32m127.9/127.9 MB\u001b[0m \u001b[31m8.4 MB/s\u001b[0m eta \u001b[36m0:00:00\u001b[0m\n",
            "\u001b[?25hDownloading nvidia_cusparse_cu12-12.3.1.170-py3-none-manylinux2014_x86_64.whl (207.5 MB)\n",
            "\u001b[2K   \u001b[90m━━━━━━━━━━━━━━━━━━━━━━━━━━━━━━━━━━━━━━━━\u001b[0m \u001b[32m207.5/207.5 MB\u001b[0m \u001b[31m8.8 MB/s\u001b[0m eta \u001b[36m0:00:00\u001b[0m\n",
            "\u001b[?25hDownloading nvidia_nvjitlink_cu12-12.4.127-py3-none-manylinux2014_x86_64.whl (21.1 MB)\n",
            "\u001b[2K   \u001b[90m━━━━━━━━━━━━━━━━━━━━━━━━━━━━━━━━━━━━━━━━\u001b[0m \u001b[32m21.1/21.1 MB\u001b[0m \u001b[31m60.4 MB/s\u001b[0m eta \u001b[36m0:00:00\u001b[0m\n",
            "\u001b[?25hInstalling collected packages: nvidia-nvjitlink-cu12, nvidia-curand-cu12, nvidia-cufft-cu12, nvidia-cuda-runtime-cu12, nvidia-cuda-nvrtc-cu12, nvidia-cuda-cupti-cu12, nvidia-cublas-cu12, nvidia-cusparse-cu12, nvidia-cudnn-cu12, nvidia-cusolver-cu12\n",
            "  Attempting uninstall: nvidia-nvjitlink-cu12\n",
            "    Found existing installation: nvidia-nvjitlink-cu12 12.5.82\n",
            "    Uninstalling nvidia-nvjitlink-cu12-12.5.82:\n",
            "      Successfully uninstalled nvidia-nvjitlink-cu12-12.5.82\n",
            "  Attempting uninstall: nvidia-curand-cu12\n",
            "    Found existing installation: nvidia-curand-cu12 10.3.6.82\n",
            "    Uninstalling nvidia-curand-cu12-10.3.6.82:\n",
            "      Successfully uninstalled nvidia-curand-cu12-10.3.6.82\n",
            "  Attempting uninstall: nvidia-cufft-cu12\n",
            "    Found existing installation: nvidia-cufft-cu12 11.2.3.61\n",
            "    Uninstalling nvidia-cufft-cu12-11.2.3.61:\n",
            "      Successfully uninstalled nvidia-cufft-cu12-11.2.3.61\n",
            "  Attempting uninstall: nvidia-cuda-runtime-cu12\n",
            "    Found existing installation: nvidia-cuda-runtime-cu12 12.5.82\n",
            "    Uninstalling nvidia-cuda-runtime-cu12-12.5.82:\n",
            "      Successfully uninstalled nvidia-cuda-runtime-cu12-12.5.82\n",
            "  Attempting uninstall: nvidia-cuda-nvrtc-cu12\n",
            "    Found existing installation: nvidia-cuda-nvrtc-cu12 12.5.82\n",
            "    Uninstalling nvidia-cuda-nvrtc-cu12-12.5.82:\n",
            "      Successfully uninstalled nvidia-cuda-nvrtc-cu12-12.5.82\n",
            "  Attempting uninstall: nvidia-cuda-cupti-cu12\n",
            "    Found existing installation: nvidia-cuda-cupti-cu12 12.5.82\n",
            "    Uninstalling nvidia-cuda-cupti-cu12-12.5.82:\n",
            "      Successfully uninstalled nvidia-cuda-cupti-cu12-12.5.82\n",
            "  Attempting uninstall: nvidia-cublas-cu12\n",
            "    Found existing installation: nvidia-cublas-cu12 12.5.3.2\n",
            "    Uninstalling nvidia-cublas-cu12-12.5.3.2:\n",
            "      Successfully uninstalled nvidia-cublas-cu12-12.5.3.2\n",
            "  Attempting uninstall: nvidia-cusparse-cu12\n",
            "    Found existing installation: nvidia-cusparse-cu12 12.5.1.3\n",
            "    Uninstalling nvidia-cusparse-cu12-12.5.1.3:\n",
            "      Successfully uninstalled nvidia-cusparse-cu12-12.5.1.3\n",
            "  Attempting uninstall: nvidia-cudnn-cu12\n",
            "    Found existing installation: nvidia-cudnn-cu12 9.3.0.75\n",
            "    Uninstalling nvidia-cudnn-cu12-9.3.0.75:\n",
            "      Successfully uninstalled nvidia-cudnn-cu12-9.3.0.75\n",
            "  Attempting uninstall: nvidia-cusolver-cu12\n",
            "    Found existing installation: nvidia-cusolver-cu12 11.6.3.83\n",
            "    Uninstalling nvidia-cusolver-cu12-11.6.3.83:\n",
            "      Successfully uninstalled nvidia-cusolver-cu12-11.6.3.83\n",
            "Successfully installed nvidia-cublas-cu12-12.4.5.8 nvidia-cuda-cupti-cu12-12.4.127 nvidia-cuda-nvrtc-cu12-12.4.127 nvidia-cuda-runtime-cu12-12.4.127 nvidia-cudnn-cu12-9.1.0.70 nvidia-cufft-cu12-11.2.1.3 nvidia-curand-cu12-10.3.5.147 nvidia-cusolver-cu12-11.6.1.9 nvidia-cusparse-cu12-12.3.1.170 nvidia-nvjitlink-cu12-12.4.127\n"
          ]
        }
      ]
    },
    {
      "cell_type": "code",
      "source": [
        "X_train_no_aug=X_train_cat + X_train_dog\n",
        "y_train_no_aug=y_train_cat + y_train_dog\n",
        "\n",
        "X_test_no_aug=X_test_cat + X_test_dog\n",
        "y_test_no_aug=y_test_cat + y_test_dog"
      ],
      "metadata": {
        "id": "X_yrAD2RoS7o"
      },
      "execution_count": null,
      "outputs": []
    },
    {
      "cell_type": "code",
      "source": [
        "import random\n",
        "\n",
        "combined = list(zip(X_train_no_aug, y_train_no_aug))\n",
        "\n",
        "# Shuffling the combined list\n",
        "random.shuffle(combined)\n",
        "\n",
        "X_train_no_aug, y_train_no_aug = zip(*combined)\n",
        "\n",
        "X_train_no_aug = list(X_train_no_aug)\n",
        "y_train_no_aug = list(y_train_no_aug)"
      ],
      "metadata": {
        "id": "9DfM5lTUkJ7y"
      },
      "execution_count": null,
      "outputs": []
    },
    {
      "cell_type": "code",
      "source": [
        "import random\n",
        "\n",
        "combined = list(zip(X_test_no_aug, y_test_no_aug))\n",
        "\n",
        "# Shuffling the combined list\n",
        "random.shuffle(combined)\n",
        "\n",
        "X_test_no_aug, y_test_no_aug = zip(*combined)\n",
        "\n",
        "X_test_no_aug = list(X_test_no_aug)\n",
        "y_test_no_aug = list(y_test_no_aug)"
      ],
      "metadata": {
        "id": "ri0ry-efkUiY"
      },
      "execution_count": null,
      "outputs": []
    },
    {
      "cell_type": "code",
      "source": [
        "# Installing required libraries\n",
        "!pip install transformers datasets torch torchvision Pillow scikit-learn"
      ],
      "metadata": {
        "colab": {
          "base_uri": "https://localhost:8080/"
        },
        "id": "QKHQIbPGCzgH",
        "outputId": "ecd4dc8a-2708-4c7f-9d93-4b45d094ba53"
      },
      "execution_count": null,
      "outputs": [
        {
          "output_type": "stream",
          "name": "stdout",
          "text": [
            "Requirement already satisfied: transformers in /usr/local/lib/python3.11/dist-packages (4.48.2)\n",
            "Collecting datasets\n",
            "  Downloading datasets-3.2.0-py3-none-any.whl.metadata (20 kB)\n",
            "Requirement already satisfied: torch in /usr/local/lib/python3.11/dist-packages (2.5.1+cu124)\n",
            "Requirement already satisfied: torchvision in /usr/local/lib/python3.11/dist-packages (0.20.1+cu124)\n",
            "Requirement already satisfied: Pillow in /usr/local/lib/python3.11/dist-packages (11.1.0)\n",
            "Requirement already satisfied: scikit-learn in /usr/local/lib/python3.11/dist-packages (1.6.1)\n",
            "Requirement already satisfied: filelock in /usr/local/lib/python3.11/dist-packages (from transformers) (3.17.0)\n",
            "Requirement already satisfied: huggingface-hub<1.0,>=0.24.0 in /usr/local/lib/python3.11/dist-packages (from transformers) (0.28.1)\n",
            "Requirement already satisfied: numpy>=1.17 in /usr/local/lib/python3.11/dist-packages (from transformers) (1.26.4)\n",
            "Requirement already satisfied: packaging>=20.0 in /usr/local/lib/python3.11/dist-packages (from transformers) (24.2)\n",
            "Requirement already satisfied: pyyaml>=5.1 in /usr/local/lib/python3.11/dist-packages (from transformers) (6.0.2)\n",
            "Requirement already satisfied: regex!=2019.12.17 in /usr/local/lib/python3.11/dist-packages (from transformers) (2024.11.6)\n",
            "Requirement already satisfied: requests in /usr/local/lib/python3.11/dist-packages (from transformers) (2.32.3)\n",
            "Requirement already satisfied: tokenizers<0.22,>=0.21 in /usr/local/lib/python3.11/dist-packages (from transformers) (0.21.0)\n",
            "Requirement already satisfied: safetensors>=0.4.1 in /usr/local/lib/python3.11/dist-packages (from transformers) (0.5.2)\n",
            "Requirement already satisfied: tqdm>=4.27 in /usr/local/lib/python3.11/dist-packages (from transformers) (4.67.1)\n",
            "Requirement already satisfied: pyarrow>=15.0.0 in /usr/local/lib/python3.11/dist-packages (from datasets) (17.0.0)\n",
            "Collecting dill<0.3.9,>=0.3.0 (from datasets)\n",
            "  Downloading dill-0.3.8-py3-none-any.whl.metadata (10 kB)\n",
            "Requirement already satisfied: pandas in /usr/local/lib/python3.11/dist-packages (from datasets) (2.2.2)\n",
            "Collecting xxhash (from datasets)\n",
            "  Downloading xxhash-3.5.0-cp311-cp311-manylinux_2_17_x86_64.manylinux2014_x86_64.whl.metadata (12 kB)\n",
            "Collecting multiprocess<0.70.17 (from datasets)\n",
            "  Downloading multiprocess-0.70.16-py311-none-any.whl.metadata (7.2 kB)\n",
            "Collecting fsspec<=2024.9.0,>=2023.1.0 (from fsspec[http]<=2024.9.0,>=2023.1.0->datasets)\n",
            "  Downloading fsspec-2024.9.0-py3-none-any.whl.metadata (11 kB)\n",
            "Requirement already satisfied: aiohttp in /usr/local/lib/python3.11/dist-packages (from datasets) (3.11.11)\n",
            "Requirement already satisfied: typing-extensions>=4.8.0 in /usr/local/lib/python3.11/dist-packages (from torch) (4.12.2)\n",
            "Requirement already satisfied: networkx in /usr/local/lib/python3.11/dist-packages (from torch) (3.4.2)\n",
            "Requirement already satisfied: jinja2 in /usr/local/lib/python3.11/dist-packages (from torch) (3.1.5)\n",
            "Requirement already satisfied: nvidia-cuda-nvrtc-cu12==12.4.127 in /usr/local/lib/python3.11/dist-packages (from torch) (12.4.127)\n",
            "Requirement already satisfied: nvidia-cuda-runtime-cu12==12.4.127 in /usr/local/lib/python3.11/dist-packages (from torch) (12.4.127)\n",
            "Requirement already satisfied: nvidia-cuda-cupti-cu12==12.4.127 in /usr/local/lib/python3.11/dist-packages (from torch) (12.4.127)\n",
            "Requirement already satisfied: nvidia-cudnn-cu12==9.1.0.70 in /usr/local/lib/python3.11/dist-packages (from torch) (9.1.0.70)\n",
            "Requirement already satisfied: nvidia-cublas-cu12==12.4.5.8 in /usr/local/lib/python3.11/dist-packages (from torch) (12.4.5.8)\n",
            "Requirement already satisfied: nvidia-cufft-cu12==11.2.1.3 in /usr/local/lib/python3.11/dist-packages (from torch) (11.2.1.3)\n",
            "Requirement already satisfied: nvidia-curand-cu12==10.3.5.147 in /usr/local/lib/python3.11/dist-packages (from torch) (10.3.5.147)\n",
            "Requirement already satisfied: nvidia-cusolver-cu12==11.6.1.9 in /usr/local/lib/python3.11/dist-packages (from torch) (11.6.1.9)\n",
            "Requirement already satisfied: nvidia-cusparse-cu12==12.3.1.170 in /usr/local/lib/python3.11/dist-packages (from torch) (12.3.1.170)\n",
            "Requirement already satisfied: nvidia-nccl-cu12==2.21.5 in /usr/local/lib/python3.11/dist-packages (from torch) (2.21.5)\n",
            "Requirement already satisfied: nvidia-nvtx-cu12==12.4.127 in /usr/local/lib/python3.11/dist-packages (from torch) (12.4.127)\n",
            "Requirement already satisfied: nvidia-nvjitlink-cu12==12.4.127 in /usr/local/lib/python3.11/dist-packages (from torch) (12.4.127)\n",
            "Requirement already satisfied: triton==3.1.0 in /usr/local/lib/python3.11/dist-packages (from torch) (3.1.0)\n",
            "Requirement already satisfied: sympy==1.13.1 in /usr/local/lib/python3.11/dist-packages (from torch) (1.13.1)\n",
            "Requirement already satisfied: mpmath<1.4,>=1.1.0 in /usr/local/lib/python3.11/dist-packages (from sympy==1.13.1->torch) (1.3.0)\n",
            "Requirement already satisfied: scipy>=1.6.0 in /usr/local/lib/python3.11/dist-packages (from scikit-learn) (1.13.1)\n",
            "Requirement already satisfied: joblib>=1.2.0 in /usr/local/lib/python3.11/dist-packages (from scikit-learn) (1.4.2)\n",
            "Requirement already satisfied: threadpoolctl>=3.1.0 in /usr/local/lib/python3.11/dist-packages (from scikit-learn) (3.5.0)\n",
            "Requirement already satisfied: aiohappyeyeballs>=2.3.0 in /usr/local/lib/python3.11/dist-packages (from aiohttp->datasets) (2.4.4)\n",
            "Requirement already satisfied: aiosignal>=1.1.2 in /usr/local/lib/python3.11/dist-packages (from aiohttp->datasets) (1.3.2)\n",
            "Requirement already satisfied: attrs>=17.3.0 in /usr/local/lib/python3.11/dist-packages (from aiohttp->datasets) (25.1.0)\n",
            "Requirement already satisfied: frozenlist>=1.1.1 in /usr/local/lib/python3.11/dist-packages (from aiohttp->datasets) (1.5.0)\n",
            "Requirement already satisfied: multidict<7.0,>=4.5 in /usr/local/lib/python3.11/dist-packages (from aiohttp->datasets) (6.1.0)\n",
            "Requirement already satisfied: propcache>=0.2.0 in /usr/local/lib/python3.11/dist-packages (from aiohttp->datasets) (0.2.1)\n",
            "Requirement already satisfied: yarl<2.0,>=1.17.0 in /usr/local/lib/python3.11/dist-packages (from aiohttp->datasets) (1.18.3)\n",
            "Requirement already satisfied: charset-normalizer<4,>=2 in /usr/local/lib/python3.11/dist-packages (from requests->transformers) (3.4.1)\n",
            "Requirement already satisfied: idna<4,>=2.5 in /usr/local/lib/python3.11/dist-packages (from requests->transformers) (3.10)\n",
            "Requirement already satisfied: urllib3<3,>=1.21.1 in /usr/local/lib/python3.11/dist-packages (from requests->transformers) (2.3.0)\n",
            "Requirement already satisfied: certifi>=2017.4.17 in /usr/local/lib/python3.11/dist-packages (from requests->transformers) (2025.1.31)\n",
            "Requirement already satisfied: MarkupSafe>=2.0 in /usr/local/lib/python3.11/dist-packages (from jinja2->torch) (3.0.2)\n",
            "Requirement already satisfied: python-dateutil>=2.8.2 in /usr/local/lib/python3.11/dist-packages (from pandas->datasets) (2.8.2)\n",
            "Requirement already satisfied: pytz>=2020.1 in /usr/local/lib/python3.11/dist-packages (from pandas->datasets) (2025.1)\n",
            "Requirement already satisfied: tzdata>=2022.7 in /usr/local/lib/python3.11/dist-packages (from pandas->datasets) (2025.1)\n",
            "Requirement already satisfied: six>=1.5 in /usr/local/lib/python3.11/dist-packages (from python-dateutil>=2.8.2->pandas->datasets) (1.17.0)\n",
            "Downloading datasets-3.2.0-py3-none-any.whl (480 kB)\n",
            "\u001b[2K   \u001b[90m━━━━━━━━━━━━━━━━━━━━━━━━━━━━━━━━━━━━━━━━\u001b[0m \u001b[32m480.6/480.6 kB\u001b[0m \u001b[31m16.0 MB/s\u001b[0m eta \u001b[36m0:00:00\u001b[0m\n",
            "\u001b[?25hDownloading dill-0.3.8-py3-none-any.whl (116 kB)\n",
            "\u001b[2K   \u001b[90m━━━━━━━━━━━━━━━━━━━━━━━━━━━━━━━━━━━━━━━━\u001b[0m \u001b[32m116.3/116.3 kB\u001b[0m \u001b[31m11.1 MB/s\u001b[0m eta \u001b[36m0:00:00\u001b[0m\n",
            "\u001b[?25hDownloading fsspec-2024.9.0-py3-none-any.whl (179 kB)\n",
            "\u001b[2K   \u001b[90m━━━━━━━━━━━━━━━━━━━━━━━━━━━━━━━━━━━━━━━━\u001b[0m \u001b[32m179.3/179.3 kB\u001b[0m \u001b[31m13.9 MB/s\u001b[0m eta \u001b[36m0:00:00\u001b[0m\n",
            "\u001b[?25hDownloading multiprocess-0.70.16-py311-none-any.whl (143 kB)\n",
            "\u001b[2K   \u001b[90m━━━━━━━━━━━━━━━━━━━━━━━━━━━━━━━━━━━━━━━━\u001b[0m \u001b[32m143.5/143.5 kB\u001b[0m \u001b[31m11.2 MB/s\u001b[0m eta \u001b[36m0:00:00\u001b[0m\n",
            "\u001b[?25hDownloading xxhash-3.5.0-cp311-cp311-manylinux_2_17_x86_64.manylinux2014_x86_64.whl (194 kB)\n",
            "\u001b[2K   \u001b[90m━━━━━━━━━━━━━━━━━━━━━━━━━━━━━━━━━━━━━━━━\u001b[0m \u001b[32m194.8/194.8 kB\u001b[0m \u001b[31m12.8 MB/s\u001b[0m eta \u001b[36m0:00:00\u001b[0m\n",
            "\u001b[?25hInstalling collected packages: xxhash, fsspec, dill, multiprocess, datasets\n",
            "  Attempting uninstall: fsspec\n",
            "    Found existing installation: fsspec 2024.10.0\n",
            "    Uninstalling fsspec-2024.10.0:\n",
            "      Successfully uninstalled fsspec-2024.10.0\n",
            "\u001b[31mERROR: pip's dependency resolver does not currently take into account all the packages that are installed. This behaviour is the source of the following dependency conflicts.\n",
            "gcsfs 2024.10.0 requires fsspec==2024.10.0, but you have fsspec 2024.9.0 which is incompatible.\u001b[0m\u001b[31m\n",
            "\u001b[0mSuccessfully installed datasets-3.2.0 dill-0.3.8 fsspec-2024.9.0 multiprocess-0.70.16 xxhash-3.5.0\n"
          ]
        }
      ]
    },
    {
      "cell_type": "code",
      "source": [
        "# Importing libraries\n",
        "import torch\n",
        "from torch.utils.data import Dataset, DataLoader\n",
        "from torchvision import transforms\n",
        "from transformers import ResNetForImageClassification\n",
        "from sklearn.metrics import precision_score, recall_score, f1_score, accuracy_score\n",
        "import numpy as np\n",
        "\n",
        "np.random.seed(42)\n",
        "# Defining a custom dataset class\n",
        "class CustomImageDataset(Dataset):\n",
        "    def __init__(self, file_paths, labels, transform=None):\n",
        "        self.file_paths = file_paths\n",
        "        self.labels = labels\n",
        "        self.transform = transform\n",
        "\n",
        "    def __len__(self):\n",
        "        return len(self.file_paths)\n",
        "\n",
        "    def __getitem__(self, idx):\n",
        "        img_path = self.file_paths[idx]\n",
        "        image = Image.open(img_path).convert(\"RGB\")  # Ensure 3 channels\n",
        "        label = self.labels[idx]\n",
        "        if self.transform:\n",
        "            image = self.transform(image)\n",
        "        return image, label\n",
        "\n",
        "# Defining transforms\n",
        "pre_processing = transforms.Compose([\n",
        "    transforms.Resize((224, 224)),\n",
        "    transforms.ToTensor(),\n",
        "    transforms.Normalize(mean=[0.485, 0.456, 0.406], std=[0.229, 0.224, 0.225]),\n",
        "])\n",
        "\n",
        "# Loading the dataset\n",
        "train_dataset_no_aug = CustomImageDataset(X_train_no_aug, y_train_no_aug, transform=pre_processing)\n",
        "test_dataset_no_aug = CustomImageDataset(X_test_no_aug, y_test_no_aug, transform=pre_processing)\n",
        "train_dataset_aug = CustomImageDataset(X_train_aug, y_train_aug, transform=pre_processing)\n",
        "test_dataset_aug = CustomImageDataset(X_test_aug, y_test_aug, transform=pre_processing)\n",
        "\n",
        "# Creating data loaders\n",
        "batch_size = 32\n",
        "train_loader_no_aug = DataLoader(train_dataset_no_aug, batch_size=batch_size, shuffle=True)\n",
        "test_loader_no_aug = DataLoader(test_dataset_no_aug, batch_size=batch_size, shuffle=False)\n",
        "train_loader_aug = DataLoader(train_dataset_aug, batch_size=batch_size, shuffle=True)\n",
        "test_loader_aug = DataLoader(test_dataset_aug, batch_size=batch_size, shuffle=False)\n",
        "\n",
        "# Loading the ResNet-50 model from Hugging Face\n",
        "model_no_aug = ResNetForImageClassification.from_pretrained(\n",
        "    \"microsoft/resnet-50\",\n",
        "    num_labels=len(set(y_train_no_aug)),\n",
        "    ignore_mismatched_sizes=True,\n",
        ")\n",
        "\n",
        "model_aug = ResNetForImageClassification.from_pretrained(\n",
        "    \"microsoft/resnet-50\",\n",
        "    num_labels=len(set(y_train_aug)),\n",
        "    ignore_mismatched_sizes=True,\n",
        "    )\n",
        "\n",
        "device = torch.device(\"cuda\" if torch.cuda.is_available() else \"cpu\")\n",
        "model_no_aug.to(device)\n",
        "model_aug.to(device)\n",
        "\n",
        "def reset_weights(m):\n",
        "    if hasattr(m, \"reset_parameters\"):\n",
        "        m.reset_parameters()\n",
        "\n",
        "model_no_aug.apply(reset_weights)\n",
        "model_aug.apply(reset_weights)\n",
        "\n",
        "# Defining loss function and optimizer\n",
        "criterion = torch.nn.CrossEntropyLoss()\n",
        "optimizer_no_aug = torch.optim.Adam(model_no_aug.parameters(), lr=1e-4)\n",
        "optimizer_aug = torch.optim.Adam(model_aug.parameters(), lr=1e-4)\n",
        "\n",
        "# Training function\n",
        "def train_model(model, train_loader, optimizer, num_epochs=5):\n",
        "    model.train()\n",
        "    for epoch in range(num_epochs):\n",
        "        running_loss = 0.0\n",
        "        for images, labels in train_loader:\n",
        "            images, labels = images.to(device), labels.to(device)\n",
        "            optimizer.zero_grad()\n",
        "            outputs = model(images).logits\n",
        "            loss = criterion(outputs, labels)\n",
        "            loss.backward()\n",
        "            optimizer.step()\n",
        "            running_loss += loss.item()\n",
        "        print(f\"Epoch [{epoch+1}/{num_epochs}], Loss: {running_loss/len(train_loader):.4f}\")\n",
        "\n",
        "# Training model without augmentation\n",
        "print(\"Training model without augmentation...\")\n",
        "train_model(model_no_aug, train_loader_no_aug, optimizer_no_aug)\n",
        "\n",
        "# Training model with augmentation\n",
        "print(\"Training model with augmentation...\")\n",
        "train_model(model_aug, train_loader_aug, optimizer_aug)\n",
        "\n",
        "# Evaluation function\n",
        "def evaluate_model(model, test_loader):\n",
        "    model.eval()\n",
        "    y_true, y_pred = [], []\n",
        "    with torch.no_grad():\n",
        "        for images, labels in test_loader:\n",
        "            images, labels = images.to(device), labels.to(device)\n",
        "            outputs = model(images).logits\n",
        "            _, predicted = torch.max(outputs, 1)\n",
        "            y_true.extend(labels.cpu().numpy())\n",
        "            y_pred.extend(predicted.cpu().numpy())\n",
        "    precision = precision_score(y_true, y_pred, average=\"weighted\")\n",
        "    recall = recall_score(y_true, y_pred, average=\"weighted\")\n",
        "    f1 = f1_score(y_true, y_pred, average=\"weighted\")\n",
        "    accuracy = accuracy_score(y_true, y_pred)\n",
        "    return precision, recall, f1, accuracy\n",
        "\n",
        "# Evaluating models\n",
        "print(\"Evaluating model without augmentation...\")\n",
        "precision_no_aug, recall_no_aug, f1_no_aug, accuracy_no_aug = evaluate_model(model_no_aug, test_loader_no_aug)\n",
        "print(f\"Precision: {precision_no_aug:.4f}, Recall: {recall_no_aug:.4f}, F1: {f1_no_aug:.4f}, Accuracy: {accuracy_no_aug:.4f}\")\n",
        "\n",
        "print(\"Evaluating model with augmentation...\")\n",
        "precision_aug, recall_aug, f1_aug, accuracy_aug = evaluate_model(model_aug, test_loader_aug)\n",
        "print(f\"Precision: {precision_aug:.4f}, Recall: {recall_aug:.4f}, F1: {f1_aug:.4f}, Accuracy: {accuracy_aug:.4f}\")"
      ],
      "metadata": {
        "id": "40JRwZYcHznE",
        "colab": {
          "base_uri": "https://localhost:8080/",
          "height": 656,
          "referenced_widgets": [
            "43b761e253444dfc8312b4319206b3fb",
            "3394c87e23ec4f8cbdce6a44cb2b7718",
            "44b0c24087f74f76b22ca8606abd7c84",
            "905283d0a99646f685b04de0d0e30cac",
            "9181cccea395400db9641f43f1a31eb5",
            "1d64f4f8895b4aeba9331ea610eafac1",
            "928ef55c1fae431ea9ed072486b9e780",
            "05b1136b3a1e43ae84356880953aca69",
            "c25c2166ebca44be969945fac1bf66e0",
            "3714ba6c2f2249109840c211d15ecd58",
            "05b5d185ee4649038d2b5c6eac33b9d5",
            "2cd8dbaab70843ddb9c5e419dc90bfbf",
            "73ccbfc8e6184423a366f6556dea8e45",
            "a45ac477c02f4050ab930ae313db8810",
            "c014c2eba5ee4094972a0a1fbb0c03b2",
            "3fa3c02135074720a051f8c8bc72b36a",
            "1d4113ff57ec4af2b1e4e212fa2b8bea",
            "87d7af12002b4915bc1c43d56d601d04",
            "25ab95a6bb464acd88c0d814856dd593",
            "9fc98a8a6a8f49aea7395395c2a215c9",
            "6056c9c33957414b942b580f038169c8",
            "e87f15134eef4291b1e75d3d61f629cf"
          ]
        },
        "outputId": "9542cf50-a76b-418a-ecd5-0f42029b5d2c"
      },
      "execution_count": null,
      "outputs": [
        {
          "output_type": "stream",
          "name": "stderr",
          "text": [
            "/usr/local/lib/python3.11/dist-packages/huggingface_hub/utils/_auth.py:94: UserWarning: \n",
            "The secret `HF_TOKEN` does not exist in your Colab secrets.\n",
            "To authenticate with the Hugging Face Hub, create a token in your settings tab (https://huggingface.co/settings/tokens), set it as secret in your Google Colab and restart your session.\n",
            "You will be able to reuse this secret in all of your notebooks.\n",
            "Please note that authentication is recommended but still optional to access public models or datasets.\n",
            "  warnings.warn(\n"
          ]
        },
        {
          "output_type": "display_data",
          "data": {
            "text/plain": [
              "config.json:   0%|          | 0.00/69.6k [00:00<?, ?B/s]"
            ],
            "application/vnd.jupyter.widget-view+json": {
              "version_major": 2,
              "version_minor": 0,
              "model_id": "43b761e253444dfc8312b4319206b3fb"
            }
          },
          "metadata": {}
        },
        {
          "output_type": "display_data",
          "data": {
            "text/plain": [
              "model.safetensors:   0%|          | 0.00/102M [00:00<?, ?B/s]"
            ],
            "application/vnd.jupyter.widget-view+json": {
              "version_major": 2,
              "version_minor": 0,
              "model_id": "2cd8dbaab70843ddb9c5e419dc90bfbf"
            }
          },
          "metadata": {}
        },
        {
          "output_type": "stream",
          "name": "stderr",
          "text": [
            "Some weights of ResNetForImageClassification were not initialized from the model checkpoint at microsoft/resnet-50 and are newly initialized because the shapes did not match:\n",
            "- classifier.1.bias: found shape torch.Size([1000]) in the checkpoint and torch.Size([2]) in the model instantiated\n",
            "- classifier.1.weight: found shape torch.Size([1000, 2048]) in the checkpoint and torch.Size([2, 2048]) in the model instantiated\n",
            "You should probably TRAIN this model on a down-stream task to be able to use it for predictions and inference.\n",
            "Some weights of ResNetForImageClassification were not initialized from the model checkpoint at microsoft/resnet-50 and are newly initialized because the shapes did not match:\n",
            "- classifier.1.bias: found shape torch.Size([1000]) in the checkpoint and torch.Size([2]) in the model instantiated\n",
            "- classifier.1.weight: found shape torch.Size([1000, 2048]) in the checkpoint and torch.Size([2, 2048]) in the model instantiated\n",
            "You should probably TRAIN this model on a down-stream task to be able to use it for predictions and inference.\n"
          ]
        },
        {
          "output_type": "stream",
          "name": "stdout",
          "text": [
            "Training model without augmentation...\n",
            "Epoch [1/5], Loss: 0.8549\n",
            "Epoch [2/5], Loss: 0.6868\n",
            "Epoch [3/5], Loss: 0.6352\n",
            "Epoch [4/5], Loss: 0.5865\n",
            "Epoch [5/5], Loss: 0.5153\n",
            "Training model with augmentation...\n",
            "Epoch [1/5], Loss: 0.8611\n",
            "Epoch [2/5], Loss: 0.7116\n",
            "Epoch [3/5], Loss: 0.6836\n",
            "Epoch [4/5], Loss: 0.6394\n",
            "Epoch [5/5], Loss: 0.6357\n",
            "Evaluating model without augmentation...\n"
          ]
        },
        {
          "output_type": "stream",
          "name": "stderr",
          "text": [
            "/usr/local/lib/python3.11/dist-packages/sklearn/metrics/_classification.py:1565: UndefinedMetricWarning: Precision is ill-defined and being set to 0.0 in labels with no predicted samples. Use `zero_division` parameter to control this behavior.\n",
            "  _warn_prf(average, modifier, f\"{metric.capitalize()} is\", len(result))\n"
          ]
        },
        {
          "output_type": "stream",
          "name": "stdout",
          "text": [
            "Precision: 0.2500, Recall: 0.5000, F1: 0.3333, Accuracy: 0.5000\n",
            "Evaluating model with augmentation...\n",
            "Precision: 0.7381, Recall: 0.6786, F1: 0.6571, Accuracy: 0.6786\n"
          ]
        }
      ]
    },
    {
      "cell_type": "code",
      "source": [
        "import matplotlib.pyplot as plt\n",
        "import seaborn as sns\n",
        "import pandas as pd\n",
        "\n",
        "# Data for bar plot\n",
        "categories = ['Train Set', 'Test Set']\n",
        "train_counts = [len(X_train_no_aug), len(X_test_no_aug)]\n",
        "\n",
        "df = pd.DataFrame({\n",
        "    'Category': categories,\n",
        "    'Count': train_counts\n",
        "})\n",
        "\n",
        "# Plot bar graph\n",
        "plt.figure(figsize=(8, 5))\n",
        "sns.barplot(x='Category', y='Count', data=df)\n",
        "plt.xlabel('Dataset Category')\n",
        "plt.ylabel('Number of Images')\n",
        "plt.title('Number of Images in Train and Test Sets')\n",
        "plt.show()\n"
      ],
      "metadata": {
        "colab": {
          "base_uri": "https://localhost:8080/",
          "height": 487
        },
        "id": "GXeUq6fu6UFH",
        "outputId": "79505aaa-0278-40d1-fdbc-1b562695631b"
      },
      "execution_count": null,
      "outputs": [
        {
          "output_type": "display_data",
          "data": {
            "text/plain": [
              "<Figure size 800x500 with 1 Axes>"
            ],
            "image/png": "[encoded data removed]"
          },
          "metadata": {}
        }
      ]
    },
    {
      "cell_type": "code",
      "source": [
        "import matplotlib.pyplot as plt\n",
        "import seaborn as sns\n",
        "import pandas as pd\n",
        "\n",
        "# Data for bar plot\n",
        "categories = ['Augmented Train Set', 'Without Augmented Train Set']\n",
        "train_counts = [len(X_train_aug), len(X_train_no_aug)]  # Ensure X_train_aug and X_train_no_aug are defined\n",
        "\n",
        "df = pd.DataFrame({\n",
        "    'Category': categories,\n",
        "    'Count': train_counts\n",
        "})\n",
        "\n",
        "# Plot bar graph\n",
        "plt.figure(figsize=(8, 5))\n",
        "sns.barplot(x='Category', y='Count', data=df)\n",
        "plt.xlabel('Dataset Category')\n",
        "plt.ylabel('Number of Images')\n",
        "plt.title('Number of Images in Augmented and Non-Augmented Train Sets')\n",
        "plt.show()\n"
      ],
      "metadata": {
        "colab": {
          "base_uri": "https://localhost:8080/",
          "height": 487
        },
        "id": "EpxU4rqz5XiV",
        "outputId": "b2ffe5de-96e1-41f8-aeb9-c4b0351b7750"
      },
      "execution_count": null,
      "outputs": [
        {
          "output_type": "display_data",
          "data": {
            "text/plain": [
              "<Figure size 800x500 with 1 Axes>"
            ],
            "image/png": "[encoded data removed]"
          },
          "metadata": {}
        }
      ]
    },
    {
      "cell_type": "code",
      "source": [
        "import matplotlib.pyplot as plt\n",
        "import seaborn as sns\n",
        "import pandas as pd\n",
        "\n",
        "# Data for bar plot\n",
        "categories = ['Train', 'Test']\n",
        "cat_counts = [len(X_train_cat), len(X_test_cat)]\n",
        "dog_counts = [len(X_train_dog), len(X_test_dog)]\n",
        "\n",
        "df = pd.DataFrame({\n",
        "    'Category': categories * 2,\n",
        "    'Count': cat_counts + dog_counts,\n",
        "    'Animal': ['Cat'] * 2 + ['Dog'] * 2\n",
        "})\n",
        "\n",
        "# Plot bar graph\n",
        "plt.figure(figsize=(8, 5))\n",
        "sns.barplot(x='Category', y='Count', hue='Animal', data=df)\n",
        "plt.xlabel('Dataset Category')\n",
        "plt.ylabel('Number of Images')\n",
        "plt.title('Number of Cat & Dog Images in Train & Test Sets')\n",
        "plt.legend(title='Animal')\n",
        "plt.show()\n"
      ],
      "metadata": {
        "colab": {
          "base_uri": "https://localhost:8080/",
          "height": 487
        },
        "id": "2B6vA9gu2pyi",
        "outputId": "f85fa808-3c34-4357-9a79-995e5ce1b7c9"
      },
      "execution_count": null,
      "outputs": [
        {
          "output_type": "display_data",
          "data": {
            "text/plain": [
              "<Figure size 800x500 with 1 Axes>"
            ],
            "image/png": "[encoded data removed]"
          },
          "metadata": {}
        }
      ]
    },
    {
      "cell_type": "markdown",
      "source": [
        "In the above implementation, We have split the Cat and Dog dataset separately into train and test sets, as the train and test sets data should be good for proper training, say the train data is dominant with dog images and the test data having more of cat images would lead to a bad model because of bad input data."
      ],
      "metadata": {
        "id": "ik5zQaL460Ry"
      }
    },
    {
      "cell_type": "markdown",
      "source": [
        "Training Parameters:\n",
        "\n",
        "Batch Size: 32\n",
        "\n",
        "Number of Epochs: 5\n",
        "\n",
        "Loss Function: CrossEntropyLoss\n",
        "\n",
        "Optimizer: Adam with a learning rate of 1e-4\n"
      ],
      "metadata": {
        "id": "eJye5p7Y7NJm"
      }
    },
    {
      "cell_type": "markdown",
      "source": [
        "Model- Resnet 50\n",
        "\n",
        "Model Architecture"
      ],
      "metadata": {
        "id": "qnfx3ac68v7N"
      }
    },
    {
      "cell_type": "markdown",
      "source": [
        "![An-illustration-of-ResNet-50-layers-architecture.png](data:image/png;base64,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)"
      ],
      "metadata": {
        "id": "t5_CgfKv8bKS"
      }
    },
    {
      "cell_type": "markdown",
      "source": [
        "Image Processing:\n",
        "\n",
        "Resizing to 224×224, converting to tensor, and normalizing with mean [0.485, 0.456, 0.406] and std [0.229, 0.224, 0.225]\n",
        "\n",
        "Test Data: Using the same processing as the non-augmented training data (i.e., no augmentation)\n"
      ],
      "metadata": {
        "id": "fFh8tiLJ8qVw"
      }
    },
    {
      "cell_type": "markdown",
      "source": [
        "Evaluation Metrics:\n",
        "\n",
        "Precision\n",
        "\n",
        "Recall\n",
        "\n",
        "F1 Score\n",
        "\n",
        "Accuracy\n"
      ],
      "metadata": {
        "id": "2jAcO5aE9jcj"
      }
    },
    {
      "cell_type": "markdown",
      "source": [
        "Evaluating model without augmentation...\n",
        "\n",
        "Precision: 0.2500, Recall: 0.5000, F1: 0.3333, Accuracy: 0.5000\n",
        "\n",
        "Evaluating model with augmentation...\n",
        "\n",
        "Precision: 0.7381, Recall: 0.6786, F1: 0.6571, Accuracy: 0.6786"
      ],
      "metadata": {
        "id": "qIl41LS299ZB"
      }
    },
    {
      "cell_type": "markdown",
      "source": [
        "We observe good results after data augmentations.\n",
        "\n",
        "Without Augmentation: High recall (0.5) but poor precision (0.25) suggests the model is predicting too many false positives, leading to weak classification.\n",
        "\n",
        "With Augmentation: Better precision (0.7381) and F1-score (0.6571) indicate the model learns more robust features and generalizes better.\n",
        "\n",
        "Accuracy Increase (50% → 67.86%) shows augmentation helps the model differentiate classes more effectively.\n",
        "\n",
        "Augmentation introduces variations, reducing overfitting and making the model more adaptable to unseen and realtime data.\n"
      ],
      "metadata": {
        "id": "PIwQ6-7y-QFb"
      }
    }
  ]
}